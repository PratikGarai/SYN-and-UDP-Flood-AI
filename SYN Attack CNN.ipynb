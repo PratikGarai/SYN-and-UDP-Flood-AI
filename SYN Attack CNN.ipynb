{
  "nbformat": 4,
  "nbformat_minor": 0,
  "metadata": {
    "colab": {
      "name": "AI CyberSec Assignment - CNN.ipynb",
      "provenance": [],
      "collapsed_sections": [
        "cD_MzA_cqnME"
      ]
    },
    "kernelspec": {
      "name": "python3",
      "display_name": "Python 3"
    },
    "language_info": {
      "name": "python"
    },
    "accelerator": "GPU"
  },
  "cells": [
    {
      "cell_type": "markdown",
      "metadata": {
        "id": "kUXhxy1DuHKk"
      },
      "source": [
        "# SYN Attack Detection using CNNs\n",
        "\n",
        "*   List item\n",
        "*   List item\n",
        "\n",
        "\n",
        "\n",
        "Links \n",
        "1. <a href=\"https://data.mendeley.com/datasets/mfnn9bh42m/1#file-ba7d3a46-1dc3-452e-aeac-26d909389b29\">Dataset</a>\n",
        "2. <a href=\"https://www.sciencedirect.com/science/article/pii/S2352340920310817#bib0005\">Paper</a>"
      ]
    },
    {
      "cell_type": "code",
      "metadata": {
        "colab": {
          "base_uri": "https://localhost:8080/"
        },
        "id": "zVI1AS-z7RJW",
        "outputId": "1fa65af7-beef-4241-da1a-25835bae74d5"
      },
      "source": [
        "from google.colab import drive\n",
        "drive.mount('/content/drive')"
      ],
      "execution_count": 1,
      "outputs": [
        {
          "output_type": "stream",
          "name": "stdout",
          "text": [
            "Drive already mounted at /content/drive; to attempt to forcibly remount, call drive.mount(\"/content/drive\", force_remount=True).\n"
          ]
        }
      ]
    },
    {
      "cell_type": "code",
      "metadata": {
        "id": "GZ9hXq9O8Trh"
      },
      "source": [
        "!cp drive/MyDrive/mfnn9bh42m-1.zip ."
      ],
      "execution_count": null,
      "outputs": []
    },
    {
      "cell_type": "code",
      "metadata": {
        "colab": {
          "base_uri": "https://localhost:8080/"
        },
        "id": "mlibqa6fCJlv",
        "outputId": "6d32e9b6-ce1d-4c56-bd2b-554393110a91"
      },
      "source": [
        "!unzip mfnn9bh42m-1.zip"
      ],
      "execution_count": null,
      "outputs": [
        {
          "output_type": "stream",
          "name": "stdout",
          "text": [
            "Archive:  mfnn9bh42m-1.zip\n",
            "  inflating: BOUN_DDoS dataset.zip   \n"
          ]
        }
      ]
    },
    {
      "cell_type": "code",
      "metadata": {
        "id": "UFSl5fBdXNPE",
        "colab": {
          "base_uri": "https://localhost:8080/"
        },
        "outputId": "67ac85c9-eb01-4f24-a61c-adb711bbd05f"
      },
      "source": [
        "!unzip BOUN_DDoS\\ dataset.zip"
      ],
      "execution_count": null,
      "outputs": [
        {
          "output_type": "stream",
          "name": "stdout",
          "text": [
            "Archive:  BOUN_DDoS dataset.zip\n",
            "   creating: BOUN_DDoS dataset/\n",
            "  inflating: BOUN_DDoS dataset/BOUN_TCP_Anon.csv  \n",
            "  inflating: BOUN_DDoS dataset/BOUN_UDP_Anon.csv  \n"
          ]
        }
      ]
    },
    {
      "cell_type": "code",
      "metadata": {
        "id": "U991fZLQ8lVI"
      },
      "source": [
        "file1 = \"BOUN_DDoS dataset/BOUN_TCP_Anon.csv\"\n",
        "file2 = \"BOUN_DDoS dataset/BOUN_UDP_Anon.csv\" "
      ],
      "execution_count": null,
      "outputs": []
    },
    {
      "cell_type": "code",
      "metadata": {
        "id": "rfKVQeVODLAt"
      },
      "source": [
        "import pandas as pd\n",
        "import numpy as np\n",
        "import matplotlib.pyplot as plt\n",
        "plt.rcParams[\"figure.figsize\"] = (10,10)"
      ],
      "execution_count": null,
      "outputs": []
    },
    {
      "cell_type": "code",
      "metadata": {
        "colab": {
          "base_uri": "https://localhost:8080/",
          "height": 206
        },
        "id": "eLtDtVTJDMU9",
        "outputId": "29e52cc5-cc05-4859-d23d-57e37ea50967"
      },
      "source": [
        "data1 = pd.read_csv(file1)\n",
        "data1.head()"
      ],
      "execution_count": null,
      "outputs": [
        {
          "output_type": "execute_result",
          "data": {
            "text/html": [
              "<div>\n",
              "<style scoped>\n",
              "    .dataframe tbody tr th:only-of-type {\n",
              "        vertical-align: middle;\n",
              "    }\n",
              "\n",
              "    .dataframe tbody tr th {\n",
              "        vertical-align: top;\n",
              "    }\n",
              "\n",
              "    .dataframe thead th {\n",
              "        text-align: right;\n",
              "    }\n",
              "</style>\n",
              "<table border=\"1\" class=\"dataframe\">\n",
              "  <thead>\n",
              "    <tr style=\"text-align: right;\">\n",
              "      <th></th>\n",
              "      <th>Time</th>\n",
              "      <th>Frame Number</th>\n",
              "      <th>Frame_length</th>\n",
              "      <th>Source_ip</th>\n",
              "      <th>Destination_IP</th>\n",
              "      <th>Source_Port</th>\n",
              "      <th>Destination_Port</th>\n",
              "      <th>SYN</th>\n",
              "      <th>ACK</th>\n",
              "      <th>RST</th>\n",
              "      <th>TTL</th>\n",
              "      <th>TCP_Protocol</th>\n",
              "    </tr>\n",
              "  </thead>\n",
              "  <tbody>\n",
              "    <tr>\n",
              "      <th>0</th>\n",
              "      <td>0.000000</td>\n",
              "      <td>1</td>\n",
              "      <td>64</td>\n",
              "      <td>10.50.197.71</td>\n",
              "      <td>10.50.192.199</td>\n",
              "      <td>49543.0</td>\n",
              "      <td>443.0</td>\n",
              "      <td>Not set</td>\n",
              "      <td>Set</td>\n",
              "      <td>Not set</td>\n",
              "      <td>127</td>\n",
              "      <td>TCP</td>\n",
              "    </tr>\n",
              "    <tr>\n",
              "      <th>1</th>\n",
              "      <td>0.000002</td>\n",
              "      <td>2</td>\n",
              "      <td>2978</td>\n",
              "      <td>10.50.192.199</td>\n",
              "      <td>10.50.197.71</td>\n",
              "      <td>443.0</td>\n",
              "      <td>49543.0</td>\n",
              "      <td>Not set</td>\n",
              "      <td>Set</td>\n",
              "      <td>Not set</td>\n",
              "      <td>127</td>\n",
              "      <td>TCP</td>\n",
              "    </tr>\n",
              "    <tr>\n",
              "      <th>2</th>\n",
              "      <td>0.000040</td>\n",
              "      <td>3</td>\n",
              "      <td>64</td>\n",
              "      <td>10.50.197.71</td>\n",
              "      <td>10.50.192.199</td>\n",
              "      <td>49543.0</td>\n",
              "      <td>443.0</td>\n",
              "      <td>Not set</td>\n",
              "      <td>Set</td>\n",
              "      <td>Not set</td>\n",
              "      <td>127</td>\n",
              "      <td>TCP</td>\n",
              "    </tr>\n",
              "    <tr>\n",
              "      <th>3</th>\n",
              "      <td>0.000042</td>\n",
              "      <td>4</td>\n",
              "      <td>4438</td>\n",
              "      <td>10.50.192.199</td>\n",
              "      <td>10.50.197.71</td>\n",
              "      <td>443.0</td>\n",
              "      <td>49543.0</td>\n",
              "      <td>Not set</td>\n",
              "      <td>Set</td>\n",
              "      <td>Not set</td>\n",
              "      <td>127</td>\n",
              "      <td>TCP</td>\n",
              "    </tr>\n",
              "    <tr>\n",
              "      <th>4</th>\n",
              "      <td>0.000053</td>\n",
              "      <td>5</td>\n",
              "      <td>64</td>\n",
              "      <td>10.50.197.71</td>\n",
              "      <td>10.50.192.199</td>\n",
              "      <td>49543.0</td>\n",
              "      <td>443.0</td>\n",
              "      <td>Not set</td>\n",
              "      <td>Set</td>\n",
              "      <td>Not set</td>\n",
              "      <td>127</td>\n",
              "      <td>TCP</td>\n",
              "    </tr>\n",
              "  </tbody>\n",
              "</table>\n",
              "</div>"
            ],
            "text/plain": [
              "       Time  Frame Number  Frame_length  ...      RST  TTL  TCP_Protocol\n",
              "0  0.000000             1            64  ...  Not set  127           TCP\n",
              "1  0.000002             2          2978  ...  Not set  127           TCP\n",
              "2  0.000040             3            64  ...  Not set  127           TCP\n",
              "3  0.000042             4          4438  ...  Not set  127           TCP\n",
              "4  0.000053             5            64  ...  Not set  127           TCP\n",
              "\n",
              "[5 rows x 12 columns]"
            ]
          },
          "metadata": {},
          "execution_count": 7
        }
      ]
    },
    {
      "cell_type": "code",
      "metadata": {
        "colab": {
          "base_uri": "https://localhost:8080/"
        },
        "id": "6qzxEocnDQB-",
        "outputId": "3d743934-2688-4c5d-ec8f-be68e3a8e813"
      },
      "source": [
        "data1.info()"
      ],
      "execution_count": null,
      "outputs": [
        {
          "output_type": "stream",
          "name": "stdout",
          "text": [
            "<class 'pandas.core.frame.DataFrame'>\n",
            "RangeIndex: 9335605 entries, 0 to 9335604\n",
            "Data columns (total 12 columns):\n",
            " #   Column            Dtype  \n",
            "---  ------            -----  \n",
            " 0   Time              float64\n",
            " 1   Frame Number      int64  \n",
            " 2   Frame_length      int64  \n",
            " 3   Source_ip         object \n",
            " 4   Destination_IP    object \n",
            " 5   Source_Port       float64\n",
            " 6   Destination_Port  float64\n",
            " 7   SYN               object \n",
            " 8   ACK               object \n",
            " 9   RST               object \n",
            " 10  TTL               object \n",
            " 11  TCP_Protocol      object \n",
            "dtypes: float64(3), int64(2), object(7)\n",
            "memory usage: 854.7+ MB\n"
          ]
        }
      ]
    },
    {
      "cell_type": "code",
      "metadata": {
        "colab": {
          "base_uri": "https://localhost:8080/"
        },
        "id": "qZr8kmj-DZ92",
        "outputId": "7c453f7f-97e1-4515-c9e5-56bbcfc6e763"
      },
      "source": [
        "data1.isnull().sum()"
      ],
      "execution_count": null,
      "outputs": [
        {
          "output_type": "execute_result",
          "data": {
            "text/plain": [
              "Time                      0\n",
              "Frame Number              0\n",
              "Frame_length              0\n",
              "Source_ip                 0\n",
              "Destination_IP            0\n",
              "Source_Port         3244465\n",
              "Destination_Port    3244465\n",
              "SYN                 3244503\n",
              "ACK                 3244503\n",
              "RST                 3244503\n",
              "TTL                   33241\n",
              "TCP_Protocol          33241\n",
              "dtype: int64"
            ]
          },
          "metadata": {},
          "execution_count": 9
        }
      ]
    },
    {
      "cell_type": "code",
      "metadata": {
        "colab": {
          "base_uri": "https://localhost:8080/"
        },
        "id": "-lXKkapkvWPe",
        "outputId": "8684890e-d7ef-4755-c12f-4aa7fafa1768"
      },
      "source": [
        "data1.nunique()"
      ],
      "execution_count": null,
      "outputs": [
        {
          "output_type": "execute_result",
          "data": {
            "text/plain": [
              "Time                8889522\n",
              "Frame Number        9335605\n",
              "Frame_length           8691\n",
              "Source_ip            137521\n",
              "Destination_IP        14630\n",
              "Source_Port           61252\n",
              "Destination_Port      24339\n",
              "SYN                       2\n",
              "ACK                       2\n",
              "RST                       2\n",
              "TTL                     573\n",
              "TCP_Protocol              9\n",
              "dtype: int64"
            ]
          },
          "metadata": {},
          "execution_count": 21
        }
      ]
    },
    {
      "cell_type": "markdown",
      "metadata": {
        "id": "1gRkne1f8jAQ"
      },
      "source": [
        "## Checking For Boundaries\n",
        "\n",
        "A experimental check to find the places where the traffic is relaxed (possible end of attacks)"
      ]
    },
    {
      "cell_type": "code",
      "metadata": {
        "colab": {
          "base_uri": "https://localhost:8080/",
          "height": 623
        },
        "id": "aKtbOLyYxbNa",
        "outputId": "0addf989-512b-438b-b12d-3120151c2649"
      },
      "source": [
        "times = data1[\"Time\"]\n",
        "last = times[0]\n",
        "diffs = []\n",
        "for i in times[1:] :\n",
        "  diffs.append(i-last)\n",
        "  last = i\n",
        "\n",
        "plt.plot(list(range(len(diffs))), diffs)"
      ],
      "execution_count": null,
      "outputs": [
        {
          "output_type": "execute_result",
          "data": {
            "text/plain": [
              "[<matplotlib.lines.Line2D at 0x7f8bd2aa95d0>]"
            ]
          },
          "metadata": {},
          "execution_count": 35
        },
        {
          "output_type": "display_data",
          "data": {
            "image/png": "[encoded data removed]",
            "text/plain": [
              "<Figure size 720x720 with 1 Axes>"
            ]
          },
          "metadata": {
            "needs_background": "light"
          }
        }
      ]
    },
    {
      "cell_type": "markdown",
      "metadata": {
        "id": "uqATWmcf_UdB"
      },
      "source": [
        "## Dataset Generation\n",
        "\n",
        "Filling NA and replacing the string with appropriate numbers"
      ]
    },
    {
      "cell_type": "code",
      "metadata": {
        "colab": {
          "base_uri": "https://localhost:8080/"
        },
        "id": "Qe8yzdwd_YIL",
        "outputId": "f2eb6463-a9c2-4679-d50e-7d56942bb85d"
      },
      "source": [
        "dataset = data1[[\"Time\",\"SYN\",\"ACK\",\"RST\",\"Frame_length\"]]\n",
        "dataset[\"SYN\"] = dataset[\"SYN\"].fillna(0)\n",
        "dataset[\"ACK\"] = dataset[\"ACK\"].fillna(0)\n",
        "dataset[\"RST\"] = dataset[\"RST\"].fillna(0)\n",
        "dataset[\"SYN\"] = dataset[\"SYN\"].replace(['Set','Not set'],[1,0])\n",
        "dataset[\"ACK\"] = dataset[\"ACK\"].replace(['Set','Not set'],[1,0])\n",
        "dataset[\"RST\"] = dataset[\"RST\"].replace(['Set','Not set'],[1,0])"
      ],
      "execution_count": null,
      "outputs": [
        {
          "output_type": "stream",
          "name": "stderr",
          "text": [
            "/usr/local/lib/python3.7/dist-packages/ipykernel_launcher.py:2: SettingWithCopyWarning: \n",
            "A value is trying to be set on a copy of a slice from a DataFrame.\n",
            "Try using .loc[row_indexer,col_indexer] = value instead\n",
            "\n",
            "See the caveats in the documentation: https://pandas.pydata.org/pandas-docs/stable/user_guide/indexing.html#returning-a-view-versus-a-copy\n",
            "  \n",
            "/usr/local/lib/python3.7/dist-packages/ipykernel_launcher.py:3: SettingWithCopyWarning: \n",
            "A value is trying to be set on a copy of a slice from a DataFrame.\n",
            "Try using .loc[row_indexer,col_indexer] = value instead\n",
            "\n",
            "See the caveats in the documentation: https://pandas.pydata.org/pandas-docs/stable/user_guide/indexing.html#returning-a-view-versus-a-copy\n",
            "  This is separate from the ipykernel package so we can avoid doing imports until\n",
            "/usr/local/lib/python3.7/dist-packages/ipykernel_launcher.py:4: SettingWithCopyWarning: \n",
            "A value is trying to be set on a copy of a slice from a DataFrame.\n",
            "Try using .loc[row_indexer,col_indexer] = value instead\n",
            "\n",
            "See the caveats in the documentation: https://pandas.pydata.org/pandas-docs/stable/user_guide/indexing.html#returning-a-view-versus-a-copy\n",
            "  after removing the cwd from sys.path.\n",
            "/usr/local/lib/python3.7/dist-packages/ipykernel_launcher.py:5: SettingWithCopyWarning: \n",
            "A value is trying to be set on a copy of a slice from a DataFrame.\n",
            "Try using .loc[row_indexer,col_indexer] = value instead\n",
            "\n",
            "See the caveats in the documentation: https://pandas.pydata.org/pandas-docs/stable/user_guide/indexing.html#returning-a-view-versus-a-copy\n",
            "  \"\"\"\n",
            "/usr/local/lib/python3.7/dist-packages/ipykernel_launcher.py:6: SettingWithCopyWarning: \n",
            "A value is trying to be set on a copy of a slice from a DataFrame.\n",
            "Try using .loc[row_indexer,col_indexer] = value instead\n",
            "\n",
            "See the caveats in the documentation: https://pandas.pydata.org/pandas-docs/stable/user_guide/indexing.html#returning-a-view-versus-a-copy\n",
            "  \n",
            "/usr/local/lib/python3.7/dist-packages/ipykernel_launcher.py:7: SettingWithCopyWarning: \n",
            "A value is trying to be set on a copy of a slice from a DataFrame.\n",
            "Try using .loc[row_indexer,col_indexer] = value instead\n",
            "\n",
            "See the caveats in the documentation: https://pandas.pydata.org/pandas-docs/stable/user_guide/indexing.html#returning-a-view-versus-a-copy\n",
            "  import sys\n"
          ]
        }
      ]
    },
    {
      "cell_type": "code",
      "metadata": {
        "colab": {
          "base_uri": "https://localhost:8080/",
          "height": 206
        },
        "id": "ETt-n9DT_tBs",
        "outputId": "70033d42-c448-4a82-a438-4a59229d34c0"
      },
      "source": [
        "dataset.head()"
      ],
      "execution_count": null,
      "outputs": [
        {
          "output_type": "execute_result",
          "data": {
            "text/html": [
              "<div>\n",
              "<style scoped>\n",
              "    .dataframe tbody tr th:only-of-type {\n",
              "        vertical-align: middle;\n",
              "    }\n",
              "\n",
              "    .dataframe tbody tr th {\n",
              "        vertical-align: top;\n",
              "    }\n",
              "\n",
              "    .dataframe thead th {\n",
              "        text-align: right;\n",
              "    }\n",
              "</style>\n",
              "<table border=\"1\" class=\"dataframe\">\n",
              "  <thead>\n",
              "    <tr style=\"text-align: right;\">\n",
              "      <th></th>\n",
              "      <th>Time</th>\n",
              "      <th>SYN</th>\n",
              "      <th>ACK</th>\n",
              "      <th>RST</th>\n",
              "      <th>Frame_length</th>\n",
              "    </tr>\n",
              "  </thead>\n",
              "  <tbody>\n",
              "    <tr>\n",
              "      <th>0</th>\n",
              "      <td>0.000000</td>\n",
              "      <td>0</td>\n",
              "      <td>1</td>\n",
              "      <td>0</td>\n",
              "      <td>64</td>\n",
              "    </tr>\n",
              "    <tr>\n",
              "      <th>1</th>\n",
              "      <td>0.000002</td>\n",
              "      <td>0</td>\n",
              "      <td>1</td>\n",
              "      <td>0</td>\n",
              "      <td>2978</td>\n",
              "    </tr>\n",
              "    <tr>\n",
              "      <th>2</th>\n",
              "      <td>0.000040</td>\n",
              "      <td>0</td>\n",
              "      <td>1</td>\n",
              "      <td>0</td>\n",
              "      <td>64</td>\n",
              "    </tr>\n",
              "    <tr>\n",
              "      <th>3</th>\n",
              "      <td>0.000042</td>\n",
              "      <td>0</td>\n",
              "      <td>1</td>\n",
              "      <td>0</td>\n",
              "      <td>4438</td>\n",
              "    </tr>\n",
              "    <tr>\n",
              "      <th>4</th>\n",
              "      <td>0.000053</td>\n",
              "      <td>0</td>\n",
              "      <td>1</td>\n",
              "      <td>0</td>\n",
              "      <td>64</td>\n",
              "    </tr>\n",
              "  </tbody>\n",
              "</table>\n",
              "</div>"
            ],
            "text/plain": [
              "       Time  SYN  ACK  RST  Frame_length\n",
              "0  0.000000    0    1    0            64\n",
              "1  0.000002    0    1    0          2978\n",
              "2  0.000040    0    1    0            64\n",
              "3  0.000042    0    1    0          4438\n",
              "4  0.000053    0    1    0            64"
            ]
          },
          "metadata": {},
          "execution_count": 52
        }
      ]
    },
    {
      "cell_type": "code",
      "metadata": {
        "colab": {
          "base_uri": "https://localhost:8080/"
        },
        "id": "cYZgaUUuAxAR",
        "outputId": "a7920df2-30bb-4754-a27f-2f68cbe3a8fa"
      },
      "source": [
        "dataset.info()"
      ],
      "execution_count": null,
      "outputs": [
        {
          "output_type": "stream",
          "name": "stdout",
          "text": [
            "<class 'pandas.core.frame.DataFrame'>\n",
            "RangeIndex: 9335605 entries, 0 to 9335604\n",
            "Data columns (total 5 columns):\n",
            " #   Column        Dtype  \n",
            "---  ------        -----  \n",
            " 0   Time          float64\n",
            " 1   SYN           int64  \n",
            " 2   ACK           int64  \n",
            " 3   RST           int64  \n",
            " 4   Frame_length  int64  \n",
            "dtypes: float64(1), int64(4)\n",
            "memory usage: 356.1 MB\n"
          ]
        }
      ]
    },
    {
      "cell_type": "code",
      "metadata": {
        "colab": {
          "base_uri": "https://localhost:8080/"
        },
        "id": "08YRa9ARAykA",
        "outputId": "eafa72eb-cca2-4335-91c5-920ca723198c"
      },
      "source": [
        "dataset.isnull().sum()"
      ],
      "execution_count": null,
      "outputs": [
        {
          "output_type": "execute_result",
          "data": {
            "text/plain": [
              "Time            0\n",
              "SYN             0\n",
              "ACK             0\n",
              "RST             0\n",
              "Frame_length    0\n",
              "dtype: int64"
            ]
          },
          "metadata": {},
          "execution_count": 54
        }
      ]
    },
    {
      "cell_type": "markdown",
      "metadata": {
        "id": "P19Bn_8ZG9TK"
      },
      "source": [
        "# Plan Of Action\n",
        "\n",
        "I plan to create a list of slices of the dataset, with each slice being attributed to one of the classes :  \"Attack\", \"No Attack\". Then I'll pass this pattern slice and the target to the model.\n",
        "\n",
        "So I will take a fixed size out of these slices and provide them as input to the CNN where slice of slice = input, target = attack T/F\n",
        "\n",
        "Feature I plan to use : \n",
        "1. Time (adjusted to be difference from start of slice)\n",
        "2. SYN\n",
        "3. ACK\n",
        "4. RST\n",
        "5. Frame_length\n",
        "\n",
        "\n",
        "The attack timings are provided in the attached article. \n",
        "I am not including IP. Trying to focus on packets received to predict malicious rate."
      ]
    },
    {
      "cell_type": "code",
      "metadata": {
        "colab": {
          "base_uri": "https://localhost:8080/"
        },
        "id": "5i0MuscQBOx2",
        "outputId": "2c738c78-1e40-4a25-ac9d-127472b319b4"
      },
      "source": [
        "attack_time = [\n",
        "               [80.22269, 102.20233],\n",
        "               [180.17426, 203.08441],\n",
        "               [279.97402, 301.79111],\n",
        "               [380.10981, 402.35755]\n",
        "]\n",
        "\n",
        "print(min(dataset.Time), max(dataset.Time))"
      ],
      "execution_count": null,
      "outputs": [
        {
          "output_type": "stream",
          "name": "stdout",
          "text": [
            "0.0 482.66291399999994\n"
          ]
        }
      ]
    },
    {
      "cell_type": "markdown",
      "metadata": {
        "id": "956rBWf3j_jX"
      },
      "source": [
        "### Creating time slices for filtering first"
      ]
    },
    {
      "cell_type": "code",
      "metadata": {
        "colab": {
          "base_uri": "https://localhost:8080/"
        },
        "id": "HVfzP4fAhy5q",
        "outputId": "b0538278-307b-4d1c-9920-f8ac769a9ca1"
      },
      "source": [
        "curr = min(dataset.Time)\n",
        "time_slices = []\n",
        "for i in attack_time : \n",
        "  time_slices.append([curr, i[0]])\n",
        "  time_slices.append(i)\n",
        "  curr = i[1]\n",
        "time_slices.append([curr, max(dataset.Time)])\n",
        "print(time_slices)"
      ],
      "execution_count": null,
      "outputs": [
        {
          "output_type": "stream",
          "name": "stdout",
          "text": [
            "[[0.0, 80.22269], [80.22269, 102.20233], [102.20233, 180.17426], [180.17426, 203.08441], [203.08441, 279.97402], [279.97402, 301.79111], [301.79111, 380.10981], [380.10981, 402.35755], [402.35755, 482.66291399999994]]\n"
          ]
        }
      ]
    },
    {
      "cell_type": "markdown",
      "metadata": {
        "id": "MJ1_-2LUkGr6"
      },
      "source": [
        "### The real slices generation and assigning labels\n",
        "\n",
        "1 - Attack <br />\n",
        "0 - Not Attack <br />"
      ]
    },
    {
      "cell_type": "code",
      "metadata": {
        "id": "Xq1WCkB7jvYj"
      },
      "source": [
        "slices = []\n",
        "vals = []\n",
        "\n",
        "for i in time_slices :\n",
        "  slices.append(dataset[(dataset[\"Time\"]>=i[0]) & (dataset[\"Time\"]<=i[1])])\n",
        "  if i in attack_time : \n",
        "    vals.append(1)\n",
        "  else :\n",
        "    vals.append(0)"
      ],
      "execution_count": null,
      "outputs": []
    },
    {
      "cell_type": "markdown",
      "metadata": {
        "id": "sergs3-Frtq2"
      },
      "source": [
        "We get the minimum length of a slice, we will need it for batch-wise data generation for our time series"
      ]
    },
    {
      "cell_type": "code",
      "metadata": {
        "colab": {
          "base_uri": "https://localhost:8080/"
        },
        "id": "ZFP73XbQrCjo",
        "outputId": "16f10c7f-1dca-4fb4-f4d0-a38973600c27"
      },
      "source": [
        "min_len = len(dataset)\n",
        "for i in slices : \n",
        "  min_len = min(min_len, len(i))\n",
        "print(min_len)"
      ],
      "execution_count": null,
      "outputs": [
        {
          "output_type": "stream",
          "name": "stdout",
          "text": [
            "388232\n"
          ]
        }
      ]
    },
    {
      "cell_type": "markdown",
      "metadata": {
        "id": "R1sJ27Hm1xq8"
      },
      "source": [
        "# Checkpoint \n",
        "\n",
        "To prevent RAM overload"
      ]
    },
    {
      "cell_type": "code",
      "metadata": {
        "id": "kalgDn2oroQA"
      },
      "source": [
        "import pickle\n",
        "\n",
        "with open('drive/MyDrive/TCP_Slices.pickle', 'wb') as handle:\n",
        "    pickle.dump((time_slices, slices, vals), handle, protocol=pickle.HIGHEST_PROTOCOL)"
      ],
      "execution_count": null,
      "outputs": []
    },
    {
      "cell_type": "markdown",
      "metadata": {
        "id": "vN4QDdVh3ONj"
      },
      "source": [
        "## Resume execution here"
      ]
    },
    {
      "cell_type": "code",
      "metadata": {
        "id": "Ovdb_3N92Psr"
      },
      "source": [
        "import pickle\n",
        "import pandas as pd\n",
        "import numpy as np\n",
        "import matplotlib.pyplot as plt\n",
        "import tensorflow as tf\n",
        "import random\n",
        "\n",
        "plt.rcParams[\"figure.figsize\"] = (10,10)\n",
        "\n",
        "with open('drive/MyDrive/TCP_Slices.pickle', 'rb') as handle:\n",
        "  f =  pickle.load(handle)\n",
        "  time_slices, slices, vals  = f\n",
        "\n",
        "num_x_signals = 4\n",
        "num_y_signals = 1"
      ],
      "execution_count": 1,
      "outputs": []
    },
    {
      "cell_type": "code",
      "metadata": {
        "id": "aI4E3TXdYynB"
      },
      "source": [
        "def batch_generator(batch_size=1,  sequence_length=1000):\n",
        "    while True:\n",
        "      x_batch = []\n",
        "      y_batch = []\n",
        "      for i in range(batch_size):\n",
        "        ind = random.randint(0, len(slices)-1)\n",
        "        x = slices[ind]\n",
        "        idx = random.randint(0,len(x)-sequence_length-1)\n",
        "        x_batch.append(np.array(x.drop([\"Time\"], axis=1)[idx : idx+sequence_length])[...,np.newaxis])\n",
        "        y_batch.append(np.array([vals[ind]]))\n",
        "      yield (np.array(x_batch), np.array(y_batch))\n",
        "  \n",
        "  \n",
        "train_batch_size = 20\n",
        "val_batch_size = 20\n",
        "sequence_length = 10000\n",
        "\n",
        "train_generator = batch_generator(batch_size=train_batch_size, sequence_length=sequence_length)\n",
        "val_generator = batch_generator(batch_size=val_batch_size, sequence_length=sequence_length)"
      ],
      "execution_count": 2,
      "outputs": []
    },
    {
      "cell_type": "code",
      "metadata": {
        "colab": {
          "base_uri": "https://localhost:8080/"
        },
        "id": "EUIkf6rsGUkE",
        "outputId": "6b9c4e07-e7bc-481b-a7ec-68234f1c8998"
      },
      "source": [
        "model = tf.keras.models.Sequential([\n",
        "  tf.keras.layers.Conv2D(filters=32, kernel_size=3, padding=\"same\", activation=\"relu\", input_shape=(sequence_length, num_x_signals, 1)), \n",
        "  tf.keras.layers.MaxPool2D(pool_size=3, strides=3, padding='valid'),\n",
        "  tf.keras.layers.Flatten(),\n",
        "  tf.keras.layers.Dense(64),\n",
        "  tf.keras.layers.Dropout(0.2),\n",
        "  tf.keras.layers.Dense(32),\n",
        "  tf.keras.layers.Dense(1, activation=\"sigmoid\")\n",
        "])\n",
        "\n",
        "model.compile(\n",
        "    optimizer = \"adam\", \n",
        "    metrics = [\"accuracy\"],\n",
        "    loss = \"binary_crossentropy\"\n",
        ")\n",
        "\n",
        "model.summary()"
      ],
      "execution_count": 8,
      "outputs": [
        {
          "output_type": "stream",
          "name": "stdout",
          "text": [
            "Model: \"sequential_5\"\n",
            "_________________________________________________________________\n",
            "Layer (type)                 Output Shape              Param #   \n",
            "=================================================================\n",
            "conv2d_5 (Conv2D)            (None, 10000, 4, 32)      320       \n",
            "_________________________________________________________________\n",
            "max_pooling2d_4 (MaxPooling2 (None, 3333, 1, 32)       0         \n",
            "_________________________________________________________________\n",
            "flatten_5 (Flatten)          (None, 106656)            0         \n",
            "_________________________________________________________________\n",
            "dense_15 (Dense)             (None, 64)                6826048   \n",
            "_________________________________________________________________\n",
            "dropout_4 (Dropout)          (None, 64)                0         \n",
            "_________________________________________________________________\n",
            "dense_16 (Dense)             (None, 32)                2080      \n",
            "_________________________________________________________________\n",
            "dense_17 (Dense)             (None, 1)                 33        \n",
            "=================================================================\n",
            "Total params: 6,828,481\n",
            "Trainable params: 6,828,481\n",
            "Non-trainable params: 0\n",
            "_________________________________________________________________\n"
          ]
        }
      ]
    },
    {
      "cell_type": "code",
      "metadata": {
        "colab": {
          "base_uri": "https://localhost:8080/"
        },
        "id": "od4mbAyFS6Gr",
        "outputId": "c9cea11e-3570-48d8-9d13-3a512310506f"
      },
      "source": [
        "epochs = 50\n",
        "steps_per_epoch = 20\n",
        "\n",
        "\n",
        "model.fit_generator(\n",
        "    generator = train_generator,\n",
        "    epochs = epochs,\n",
        "    steps_per_epoch = steps_per_epoch,\n",
        "    validation_data = val_generator,\n",
        "    validation_steps = 5\n",
        ")"
      ],
      "execution_count": 9,
      "outputs": [
        {
          "output_type": "stream",
          "name": "stderr",
          "text": [
            "/usr/local/lib/python3.7/dist-packages/keras/engine/training.py:1972: UserWarning: `Model.fit_generator` is deprecated and will be removed in a future version. Please use `Model.fit`, which supports generators.\n",
            "  warnings.warn('`Model.fit_generator` is deprecated and '\n"
          ]
        },
        {
          "output_type": "stream",
          "name": "stdout",
          "text": [
            "Epoch 1/50\n",
            "20/20 [==============================] - 7s 290ms/step - loss: 5166.9917 - accuracy: 0.5650 - val_loss: 909.7933 - val_accuracy: 0.4900\n",
            "Epoch 2/50\n",
            "20/20 [==============================] - 6s 293ms/step - loss: 2381.1560 - accuracy: 0.5275 - val_loss: 3073.5713 - val_accuracy: 0.4400\n",
            "Epoch 3/50\n",
            "20/20 [==============================] - 6s 307ms/step - loss: 1526.1162 - accuracy: 0.5300 - val_loss: 1080.0199 - val_accuracy: 0.5400\n",
            "Epoch 4/50\n",
            "20/20 [==============================] - 6s 299ms/step - loss: 582.7920 - accuracy: 0.5825 - val_loss: 439.3879 - val_accuracy: 0.5500\n",
            "Epoch 5/50\n",
            "20/20 [==============================] - 6s 297ms/step - loss: 608.6655 - accuracy: 0.4850 - val_loss: 280.4824 - val_accuracy: 0.5400\n",
            "Epoch 6/50\n",
            "20/20 [==============================] - 6s 303ms/step - loss: 316.3659 - accuracy: 0.5875 - val_loss: 183.9057 - val_accuracy: 0.5600\n",
            "Epoch 7/50\n",
            "20/20 [==============================] - 6s 301ms/step - loss: 171.4662 - accuracy: 0.5575 - val_loss: 133.5304 - val_accuracy: 0.5900\n",
            "Epoch 8/50\n",
            "20/20 [==============================] - 7s 343ms/step - loss: 124.5391 - accuracy: 0.5700 - val_loss: 99.8433 - val_accuracy: 0.6000\n",
            "Epoch 9/50\n",
            "20/20 [==============================] - 6s 311ms/step - loss: 191.9350 - accuracy: 0.5700 - val_loss: 158.6039 - val_accuracy: 0.5300\n",
            "Epoch 10/50\n",
            "20/20 [==============================] - 6s 304ms/step - loss: 145.7419 - accuracy: 0.5675 - val_loss: 150.2741 - val_accuracy: 0.6000\n",
            "Epoch 11/50\n",
            "20/20 [==============================] - 6s 307ms/step - loss: 111.0175 - accuracy: 0.5575 - val_loss: 146.6621 - val_accuracy: 0.6400\n",
            "Epoch 12/50\n",
            "20/20 [==============================] - 6s 312ms/step - loss: 100.7640 - accuracy: 0.5900 - val_loss: 33.2709 - val_accuracy: 0.6600\n",
            "Epoch 13/50\n",
            "20/20 [==============================] - 6s 303ms/step - loss: 60.4496 - accuracy: 0.6250 - val_loss: 41.6885 - val_accuracy: 0.6800\n",
            "Epoch 14/50\n",
            "20/20 [==============================] - 6s 309ms/step - loss: 38.9668 - accuracy: 0.6650 - val_loss: 17.3991 - val_accuracy: 0.7900\n",
            "Epoch 15/50\n",
            "20/20 [==============================] - 6s 294ms/step - loss: 25.5951 - accuracy: 0.6975 - val_loss: 22.4685 - val_accuracy: 0.7100\n",
            "Epoch 16/50\n",
            "20/20 [==============================] - 7s 369ms/step - loss: 22.3309 - accuracy: 0.7075 - val_loss: 9.3711 - val_accuracy: 0.8000\n",
            "Epoch 17/50\n",
            "20/20 [==============================] - 6s 314ms/step - loss: 14.6717 - accuracy: 0.7600 - val_loss: 18.7459 - val_accuracy: 0.6800\n",
            "Epoch 18/50\n",
            "20/20 [==============================] - 6s 306ms/step - loss: 15.8359 - accuracy: 0.7350 - val_loss: 5.1383 - val_accuracy: 0.8100\n",
            "Epoch 19/50\n",
            "20/20 [==============================] - 6s 304ms/step - loss: 9.4874 - accuracy: 0.7775 - val_loss: 5.7007 - val_accuracy: 0.8700\n",
            "Epoch 20/50\n",
            "20/20 [==============================] - 6s 328ms/step - loss: 9.9498 - accuracy: 0.7825 - val_loss: 4.8461 - val_accuracy: 0.8400\n",
            "Epoch 21/50\n",
            "20/20 [==============================] - 6s 333ms/step - loss: 6.1856 - accuracy: 0.8450 - val_loss: 8.5190 - val_accuracy: 0.7900\n",
            "Epoch 22/50\n",
            "20/20 [==============================] - 6s 316ms/step - loss: 8.4607 - accuracy: 0.7825 - val_loss: 6.0791 - val_accuracy: 0.8300\n",
            "Epoch 23/50\n",
            "20/20 [==============================] - 6s 306ms/step - loss: 4.6608 - accuracy: 0.8325 - val_loss: 1.4054 - val_accuracy: 0.8900\n",
            "Epoch 24/50\n",
            "20/20 [==============================] - 6s 299ms/step - loss: 4.2192 - accuracy: 0.8500 - val_loss: 5.5684 - val_accuracy: 0.8100\n",
            "Epoch 25/50\n",
            "20/20 [==============================] - 6s 316ms/step - loss: 4.5233 - accuracy: 0.8375 - val_loss: 7.2886 - val_accuracy: 0.8300\n",
            "Epoch 26/50\n",
            "20/20 [==============================] - 6s 309ms/step - loss: 4.0551 - accuracy: 0.8550 - val_loss: 1.7738 - val_accuracy: 0.8900\n",
            "Epoch 27/50\n",
            "20/20 [==============================] - 6s 305ms/step - loss: 3.4922 - accuracy: 0.8525 - val_loss: 3.1008 - val_accuracy: 0.8700\n",
            "Epoch 28/50\n",
            "20/20 [==============================] - 6s 301ms/step - loss: 3.4772 - accuracy: 0.8600 - val_loss: 1.0040 - val_accuracy: 0.9600\n",
            "Epoch 29/50\n",
            "20/20 [==============================] - 6s 305ms/step - loss: 2.0598 - accuracy: 0.8850 - val_loss: 1.3552 - val_accuracy: 0.9300\n",
            "Epoch 30/50\n",
            "20/20 [==============================] - 6s 306ms/step - loss: 2.3072 - accuracy: 0.8900 - val_loss: 3.5550 - val_accuracy: 0.8700\n",
            "Epoch 31/50\n",
            "20/20 [==============================] - 6s 307ms/step - loss: 2.3498 - accuracy: 0.8750 - val_loss: 0.7468 - val_accuracy: 0.9600\n",
            "Epoch 32/50\n",
            "20/20 [==============================] - 6s 303ms/step - loss: 1.7461 - accuracy: 0.8575 - val_loss: 0.6407 - val_accuracy: 0.9200\n",
            "Epoch 33/50\n",
            "20/20 [==============================] - 6s 319ms/step - loss: 1.9124 - accuracy: 0.9125 - val_loss: 1.5541 - val_accuracy: 0.8900\n",
            "Epoch 34/50\n",
            "20/20 [==============================] - 6s 305ms/step - loss: 2.3365 - accuracy: 0.8950 - val_loss: 0.4172 - val_accuracy: 0.9500\n",
            "Epoch 35/50\n",
            "20/20 [==============================] - 6s 319ms/step - loss: 1.0197 - accuracy: 0.9150 - val_loss: 0.2748 - val_accuracy: 0.9600\n",
            "Epoch 36/50\n",
            "20/20 [==============================] - 6s 310ms/step - loss: 1.1270 - accuracy: 0.9150 - val_loss: 1.1548 - val_accuracy: 0.8800\n",
            "Epoch 37/50\n",
            "20/20 [==============================] - 6s 309ms/step - loss: 1.2649 - accuracy: 0.9100 - val_loss: 1.5041 - val_accuracy: 0.9400\n",
            "Epoch 38/50\n",
            "20/20 [==============================] - 6s 307ms/step - loss: 0.7211 - accuracy: 0.9050 - val_loss: 0.2766 - val_accuracy: 0.9500\n",
            "Epoch 39/50\n",
            "20/20 [==============================] - 6s 313ms/step - loss: 0.6322 - accuracy: 0.9400 - val_loss: 1.2297 - val_accuracy: 0.9300\n",
            "Epoch 40/50\n",
            "20/20 [==============================] - 6s 310ms/step - loss: 1.2137 - accuracy: 0.9400 - val_loss: 1.2411 - val_accuracy: 0.9300\n",
            "Epoch 41/50\n",
            "20/20 [==============================] - 6s 316ms/step - loss: 0.5128 - accuracy: 0.9375 - val_loss: 0.9027 - val_accuracy: 0.9300\n",
            "Epoch 42/50\n",
            "20/20 [==============================] - 6s 307ms/step - loss: 0.5602 - accuracy: 0.9375 - val_loss: 0.6879 - val_accuracy: 0.9400\n",
            "Epoch 43/50\n",
            "20/20 [==============================] - 6s 297ms/step - loss: 0.6040 - accuracy: 0.9550 - val_loss: 0.3439 - val_accuracy: 0.9700\n",
            "Epoch 44/50\n",
            "20/20 [==============================] - 6s 310ms/step - loss: 0.7115 - accuracy: 0.9300 - val_loss: 0.1387 - val_accuracy: 0.9600\n",
            "Epoch 45/50\n",
            "20/20 [==============================] - 6s 307ms/step - loss: 0.7508 - accuracy: 0.9400 - val_loss: 0.9195 - val_accuracy: 0.9200\n",
            "Epoch 46/50\n",
            "20/20 [==============================] - 6s 300ms/step - loss: 0.8472 - accuracy: 0.9400 - val_loss: 0.0457 - val_accuracy: 0.9800\n",
            "Epoch 47/50\n",
            "20/20 [==============================] - 6s 310ms/step - loss: 0.3365 - accuracy: 0.9625 - val_loss: 0.3484 - val_accuracy: 0.9500\n",
            "Epoch 48/50\n",
            "20/20 [==============================] - 6s 310ms/step - loss: 0.3974 - accuracy: 0.9500 - val_loss: 0.3261 - val_accuracy: 0.9500\n",
            "Epoch 49/50\n",
            "20/20 [==============================] - 6s 308ms/step - loss: 0.5907 - accuracy: 0.9525 - val_loss: 0.2238 - val_accuracy: 0.9700\n",
            "Epoch 50/50\n",
            "20/20 [==============================] - 6s 302ms/step - loss: 0.4366 - accuracy: 0.9625 - val_loss: 0.4556 - val_accuracy: 0.9600\n"
          ]
        },
        {
          "output_type": "execute_result",
          "data": {
            "text/plain": [
              "<keras.callbacks.History at 0x7f140ccd6b50>"
            ]
          },
          "metadata": {},
          "execution_count": 9
        }
      ]
    },
    {
      "cell_type": "markdown",
      "metadata": {
        "id": "cD_MzA_cqnME"
      },
      "source": [
        "# Conclusion\n",
        "\n",
        "The above model takes a sequence of 10000 rows as an input and returns if the system is under attack or not with 96% accuracy. We can be attach it to a real server and pass the last 10000 wireshark logs of the server to it and it will automatically close down the server if needed."
      ]
    }
  ]
}