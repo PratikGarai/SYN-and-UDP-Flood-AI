{
  "nbformat": 4,
  "nbformat_minor": 0,
  "metadata": {
    "colab": {
      "name": "AI CyberSec Assignment 2- CNN.ipynb",
      "provenance": [],
      "collapsed_sections": []
    },
    "kernelspec": {
      "name": "python3",
      "display_name": "Python 3"
    },
    "language_info": {
      "name": "python"
    },
    "accelerator": "GPU"
  },
  "cells": [
    {
      "cell_type": "markdown",
      "metadata": {
        "id": "kUXhxy1DuHKk"
      },
      "source": [
        "# UDP Flood Attack Detection using CNNs\n",
        "\n",
        "\n",
        "Links \n",
        "1. <a href=\"https://data.mendeley.com/datasets/mfnn9bh42m/1#file-ba7d3a46-1dc3-452e-aeac-26d909389b29\">Dataset</a>\n",
        "2. <a href=\"https://www.sciencedirect.com/science/article/pii/S2352340920310817#bib0005\">Paper</a>"
      ]
    },
    {
      "cell_type": "code",
      "metadata": {
        "colab": {
          "base_uri": "https://localhost:8080/"
        },
        "id": "zVI1AS-z7RJW",
        "outputId": "7aaa6545-dfc3-4e51-d88f-9c4eb0cd97a6"
      },
      "source": [
        "from google.colab import drive\n",
        "drive.mount('/content/drive')"
      ],
      "execution_count": 1,
      "outputs": [
        {
          "output_type": "stream",
          "name": "stdout",
          "text": [
            "Mounted at /content/drive\n"
          ]
        }
      ]
    },
    {
      "cell_type": "code",
      "metadata": {
        "id": "GZ9hXq9O8Trh"
      },
      "source": [
        "!cp drive/MyDrive/mfnn9bh42m-1.zip ."
      ],
      "execution_count": 2,
      "outputs": []
    },
    {
      "cell_type": "code",
      "metadata": {
        "colab": {
          "base_uri": "https://localhost:8080/"
        },
        "id": "mlibqa6fCJlv",
        "outputId": "2d026efa-1fa6-4539-8223-99200e690bfd"
      },
      "source": [
        "!unzip mfnn9bh42m-1.zip"
      ],
      "execution_count": 3,
      "outputs": [
        {
          "output_type": "stream",
          "name": "stdout",
          "text": [
            "Archive:  mfnn9bh42m-1.zip\n",
            "  inflating: BOUN_DDoS dataset.zip   \n"
          ]
        }
      ]
    },
    {
      "cell_type": "code",
      "metadata": {
        "id": "UFSl5fBdXNPE",
        "colab": {
          "base_uri": "https://localhost:8080/"
        },
        "outputId": "80316e08-454f-4cb0-9498-4df9924e0bb0"
      },
      "source": [
        "!unzip BOUN_DDoS\\ dataset.zip"
      ],
      "execution_count": 4,
      "outputs": [
        {
          "output_type": "stream",
          "name": "stdout",
          "text": [
            "Archive:  BOUN_DDoS dataset.zip\n",
            "   creating: BOUN_DDoS dataset/\n",
            "  inflating: BOUN_DDoS dataset/BOUN_TCP_Anon.csv  \n",
            "  inflating: BOUN_DDoS dataset/BOUN_UDP_Anon.csv  \n"
          ]
        }
      ]
    },
    {
      "cell_type": "code",
      "metadata": {
        "id": "U991fZLQ8lVI"
      },
      "source": [
        "file1 = \"BOUN_DDoS dataset/BOUN_TCP_Anon.csv\"\n",
        "file2 = \"BOUN_DDoS dataset/BOUN_UDP_Anon.csv\" "
      ],
      "execution_count": 5,
      "outputs": []
    },
    {
      "cell_type": "code",
      "metadata": {
        "id": "rfKVQeVODLAt"
      },
      "source": [
        "import pandas as pd\n",
        "import numpy as np\n",
        "import matplotlib.pyplot as plt\n",
        "plt.rcParams[\"figure.figsize\"] = (10,10)"
      ],
      "execution_count": 6,
      "outputs": []
    },
    {
      "cell_type": "code",
      "metadata": {
        "colab": {
          "base_uri": "https://localhost:8080/",
          "height": 206
        },
        "id": "eLtDtVTJDMU9",
        "outputId": "7a2cc966-ff7a-43d6-b027-1123dbc8d94a"
      },
      "source": [
        "data1 = pd.read_csv(file2)\n",
        "data1.head()"
      ],
      "execution_count": 10,
      "outputs": [
        {
          "output_type": "execute_result",
          "data": {
            "text/html": [
              "<div>\n",
              "<style scoped>\n",
              "    .dataframe tbody tr th:only-of-type {\n",
              "        vertical-align: middle;\n",
              "    }\n",
              "\n",
              "    .dataframe tbody tr th {\n",
              "        vertical-align: top;\n",
              "    }\n",
              "\n",
              "    .dataframe thead th {\n",
              "        text-align: right;\n",
              "    }\n",
              "</style>\n",
              "<table border=\"1\" class=\"dataframe\">\n",
              "  <thead>\n",
              "    <tr style=\"text-align: right;\">\n",
              "      <th></th>\n",
              "      <th>Time</th>\n",
              "      <th>Frame Number</th>\n",
              "      <th>Frame_length</th>\n",
              "      <th>Source_ip</th>\n",
              "      <th>Destination_IP</th>\n",
              "      <th>Source_Port</th>\n",
              "      <th>Destination_Port</th>\n",
              "      <th>SYN</th>\n",
              "      <th>ACK</th>\n",
              "      <th>RST</th>\n",
              "      <th>TTL</th>\n",
              "      <th>TCP_Protocol</th>\n",
              "    </tr>\n",
              "  </thead>\n",
              "  <tbody>\n",
              "    <tr>\n",
              "      <th>0</th>\n",
              "      <td>0.000000</td>\n",
              "      <td>1</td>\n",
              "      <td>68</td>\n",
              "      <td>92.45.54.178</td>\n",
              "      <td>10.50.209.134</td>\n",
              "      <td>NaN</td>\n",
              "      <td>NaN</td>\n",
              "      <td>NaN</td>\n",
              "      <td>NaN</td>\n",
              "      <td>NaN</td>\n",
              "      <td>116</td>\n",
              "      <td>UDP</td>\n",
              "    </tr>\n",
              "    <tr>\n",
              "      <th>1</th>\n",
              "      <td>0.000218</td>\n",
              "      <td>2</td>\n",
              "      <td>900</td>\n",
              "      <td>10.50.197.6</td>\n",
              "      <td>31.13.84.8</td>\n",
              "      <td>49218.0</td>\n",
              "      <td>443.0</td>\n",
              "      <td>Not set</td>\n",
              "      <td>Set</td>\n",
              "      <td>Not set</td>\n",
              "      <td>127</td>\n",
              "      <td>TCP</td>\n",
              "    </tr>\n",
              "    <tr>\n",
              "      <th>2</th>\n",
              "      <td>0.000233</td>\n",
              "      <td>3</td>\n",
              "      <td>171</td>\n",
              "      <td>31.13.84.8</td>\n",
              "      <td>192.168.66.111</td>\n",
              "      <td>443.0</td>\n",
              "      <td>40991.0</td>\n",
              "      <td>Not set</td>\n",
              "      <td>Set</td>\n",
              "      <td>Not set</td>\n",
              "      <td>252,87</td>\n",
              "      <td>TCP</td>\n",
              "    </tr>\n",
              "    <tr>\n",
              "      <th>3</th>\n",
              "      <td>0.000235</td>\n",
              "      <td>4</td>\n",
              "      <td>1500</td>\n",
              "      <td>192.168.68.148</td>\n",
              "      <td>54.225.245.82</td>\n",
              "      <td>54602.0</td>\n",
              "      <td>443.0</td>\n",
              "      <td>Not set</td>\n",
              "      <td>Set</td>\n",
              "      <td>Not set</td>\n",
              "      <td>63,64</td>\n",
              "      <td>TCP</td>\n",
              "    </tr>\n",
              "    <tr>\n",
              "      <th>4</th>\n",
              "      <td>0.000466</td>\n",
              "      <td>5</td>\n",
              "      <td>126</td>\n",
              "      <td>192.168.79.128</td>\n",
              "      <td>64.15.113.173</td>\n",
              "      <td>55251.0</td>\n",
              "      <td>443.0</td>\n",
              "      <td>Not set</td>\n",
              "      <td>Set</td>\n",
              "      <td>Not set</td>\n",
              "      <td>63,64</td>\n",
              "      <td>TCP</td>\n",
              "    </tr>\n",
              "  </tbody>\n",
              "</table>\n",
              "</div>"
            ],
            "text/plain": [
              "       Time  Frame Number  Frame_length  ...      RST     TTL  TCP_Protocol\n",
              "0  0.000000             1            68  ...      NaN     116           UDP\n",
              "1  0.000218             2           900  ...  Not set     127           TCP\n",
              "2  0.000233             3           171  ...  Not set  252,87           TCP\n",
              "3  0.000235             4          1500  ...  Not set   63,64           TCP\n",
              "4  0.000466             5           126  ...  Not set   63,64           TCP\n",
              "\n",
              "[5 rows x 12 columns]"
            ]
          },
          "metadata": {},
          "execution_count": 10
        }
      ]
    },
    {
      "cell_type": "code",
      "metadata": {
        "colab": {
          "base_uri": "https://localhost:8080/"
        },
        "id": "6qzxEocnDQB-",
        "outputId": "e5864f30-2aab-492d-b4ac-2f788bec336f"
      },
      "source": [
        "data1.info()"
      ],
      "execution_count": 11,
      "outputs": [
        {
          "output_type": "stream",
          "name": "stdout",
          "text": [
            "<class 'pandas.core.frame.DataFrame'>\n",
            "RangeIndex: 8047335 entries, 0 to 8047334\n",
            "Data columns (total 12 columns):\n",
            " #   Column            Dtype  \n",
            "---  ------            -----  \n",
            " 0   Time              float64\n",
            " 1   Frame Number      int64  \n",
            " 2   Frame_length      int64  \n",
            " 3   Source_ip         object \n",
            " 4   Destination_IP    object \n",
            " 5   Source_Port       float64\n",
            " 6   Destination_Port  float64\n",
            " 7   SYN               object \n",
            " 8   ACK               object \n",
            " 9   RST               object \n",
            " 10  TTL               object \n",
            " 11  TCP_Protocol      object \n",
            "dtypes: float64(3), int64(2), object(7)\n",
            "memory usage: 736.8+ MB\n"
          ]
        }
      ]
    },
    {
      "cell_type": "code",
      "metadata": {
        "colab": {
          "base_uri": "https://localhost:8080/"
        },
        "id": "qZr8kmj-DZ92",
        "outputId": "c7b6f58a-cdbe-47d7-f03f-e480c9ba31f7"
      },
      "source": [
        "data1.isnull().sum()"
      ],
      "execution_count": 12,
      "outputs": [
        {
          "output_type": "execute_result",
          "data": {
            "text/plain": [
              "Time                      0\n",
              "Frame Number              0\n",
              "Frame_length              0\n",
              "Source_ip                 0\n",
              "Destination_IP            0\n",
              "Source_Port         3964642\n",
              "Destination_Port    3964642\n",
              "SYN                 3964647\n",
              "ACK                 3964647\n",
              "RST                 3964647\n",
              "TTL                   34446\n",
              "TCP_Protocol          34446\n",
              "dtype: int64"
            ]
          },
          "metadata": {},
          "execution_count": 12
        }
      ]
    },
    {
      "cell_type": "code",
      "metadata": {
        "colab": {
          "base_uri": "https://localhost:8080/"
        },
        "id": "-lXKkapkvWPe",
        "outputId": "670f24f9-8f79-4dfd-d867-14ddbe5970cf"
      },
      "source": [
        "data1.nunique()"
      ],
      "execution_count": 13,
      "outputs": [
        {
          "output_type": "execute_result",
          "data": {
            "text/plain": [
              "Time                7790833\n",
              "Frame Number        8047335\n",
              "Frame_length           8963\n",
              "Source_ip            272509\n",
              "Destination_IP        11656\n",
              "Source_Port           20345\n",
              "Destination_Port      20450\n",
              "SYN                       2\n",
              "ACK                       2\n",
              "RST                       2\n",
              "TTL                     465\n",
              "TCP_Protocol              9\n",
              "dtype: int64"
            ]
          },
          "metadata": {},
          "execution_count": 13
        }
      ]
    },
    {
      "cell_type": "markdown",
      "metadata": {
        "id": "1gRkne1f8jAQ"
      },
      "source": [
        "## Checking For Boundaries\n",
        "\n",
        "A experimental check to find the places where the traffic is relaxed (possible end of attacks)"
      ]
    },
    {
      "cell_type": "code",
      "metadata": {
        "colab": {
          "base_uri": "https://localhost:8080/",
          "height": 623
        },
        "id": "aKtbOLyYxbNa",
        "outputId": "a9a4cf1e-b4f8-45a6-8928-b111d731fe10"
      },
      "source": [
        "times = data1[\"Time\"]\n",
        "last = times[0]\n",
        "diffs = []\n",
        "for i in times[1:] :\n",
        "  diffs.append(i-last)\n",
        "  last = i\n",
        "\n",
        "plt.plot(list(range(len(diffs))), diffs)"
      ],
      "execution_count": 14,
      "outputs": [
        {
          "output_type": "execute_result",
          "data": {
            "text/plain": [
              "[<matplotlib.lines.Line2D at 0x7fc2b7d213d0>]"
            ]
          },
          "metadata": {},
          "execution_count": 14
        },
        {
          "output_type": "display_data",
          "data": {
            "image/png": "[encoded data removed]",
            "text/plain": [
              "<Figure size 720x720 with 1 Axes>"
            ]
          },
          "metadata": {
            "needs_background": "light"
          }
        }
      ]
    },
    {
      "cell_type": "markdown",
      "metadata": {
        "id": "uqATWmcf_UdB"
      },
      "source": [
        "## Dataset Generation\n",
        "\n",
        "Filling NA and replacing the string with appropriate numbers"
      ]
    },
    {
      "cell_type": "code",
      "metadata": {
        "colab": {
          "base_uri": "https://localhost:8080/"
        },
        "id": "Qe8yzdwd_YIL",
        "outputId": "c0dec725-668e-41db-8ac3-d83b9cbe7bd6"
      },
      "source": [
        "dataset = data1[[\"Time\",\"SYN\",\"ACK\",\"RST\",\"Frame_length\"]]\n",
        "dataset[\"SYN\"] = dataset[\"SYN\"].fillna(0)\n",
        "dataset[\"ACK\"] = dataset[\"ACK\"].fillna(0)\n",
        "dataset[\"RST\"] = dataset[\"RST\"].fillna(0)\n",
        "dataset[\"SYN\"] = dataset[\"SYN\"].replace(['Set','Not set'],[1,0])\n",
        "dataset[\"ACK\"] = dataset[\"ACK\"].replace(['Set','Not set'],[1,0])\n",
        "dataset[\"RST\"] = dataset[\"RST\"].replace(['Set','Not set'],[1,0])"
      ],
      "execution_count": 15,
      "outputs": [
        {
          "output_type": "stream",
          "name": "stderr",
          "text": [
            "/usr/local/lib/python3.7/dist-packages/ipykernel_launcher.py:2: SettingWithCopyWarning: \n",
            "A value is trying to be set on a copy of a slice from a DataFrame.\n",
            "Try using .loc[row_indexer,col_indexer] = value instead\n",
            "\n",
            "See the caveats in the documentation: https://pandas.pydata.org/pandas-docs/stable/user_guide/indexing.html#returning-a-view-versus-a-copy\n",
            "  \n",
            "/usr/local/lib/python3.7/dist-packages/ipykernel_launcher.py:3: SettingWithCopyWarning: \n",
            "A value is trying to be set on a copy of a slice from a DataFrame.\n",
            "Try using .loc[row_indexer,col_indexer] = value instead\n",
            "\n",
            "See the caveats in the documentation: https://pandas.pydata.org/pandas-docs/stable/user_guide/indexing.html#returning-a-view-versus-a-copy\n",
            "  This is separate from the ipykernel package so we can avoid doing imports until\n",
            "/usr/local/lib/python3.7/dist-packages/ipykernel_launcher.py:4: SettingWithCopyWarning: \n",
            "A value is trying to be set on a copy of a slice from a DataFrame.\n",
            "Try using .loc[row_indexer,col_indexer] = value instead\n",
            "\n",
            "See the caveats in the documentation: https://pandas.pydata.org/pandas-docs/stable/user_guide/indexing.html#returning-a-view-versus-a-copy\n",
            "  after removing the cwd from sys.path.\n",
            "/usr/local/lib/python3.7/dist-packages/ipykernel_launcher.py:5: SettingWithCopyWarning: \n",
            "A value is trying to be set on a copy of a slice from a DataFrame.\n",
            "Try using .loc[row_indexer,col_indexer] = value instead\n",
            "\n",
            "See the caveats in the documentation: https://pandas.pydata.org/pandas-docs/stable/user_guide/indexing.html#returning-a-view-versus-a-copy\n",
            "  \"\"\"\n",
            "/usr/local/lib/python3.7/dist-packages/ipykernel_launcher.py:6: SettingWithCopyWarning: \n",
            "A value is trying to be set on a copy of a slice from a DataFrame.\n",
            "Try using .loc[row_indexer,col_indexer] = value instead\n",
            "\n",
            "See the caveats in the documentation: https://pandas.pydata.org/pandas-docs/stable/user_guide/indexing.html#returning-a-view-versus-a-copy\n",
            "  \n",
            "/usr/local/lib/python3.7/dist-packages/ipykernel_launcher.py:7: SettingWithCopyWarning: \n",
            "A value is trying to be set on a copy of a slice from a DataFrame.\n",
            "Try using .loc[row_indexer,col_indexer] = value instead\n",
            "\n",
            "See the caveats in the documentation: https://pandas.pydata.org/pandas-docs/stable/user_guide/indexing.html#returning-a-view-versus-a-copy\n",
            "  import sys\n"
          ]
        }
      ]
    },
    {
      "cell_type": "code",
      "metadata": {
        "colab": {
          "base_uri": "https://localhost:8080/",
          "height": 206
        },
        "id": "ETt-n9DT_tBs",
        "outputId": "754d7122-f9d5-43b1-d977-bcfe18493b39"
      },
      "source": [
        "dataset.head()"
      ],
      "execution_count": 16,
      "outputs": [
        {
          "output_type": "execute_result",
          "data": {
            "text/html": [
              "<div>\n",
              "<style scoped>\n",
              "    .dataframe tbody tr th:only-of-type {\n",
              "        vertical-align: middle;\n",
              "    }\n",
              "\n",
              "    .dataframe tbody tr th {\n",
              "        vertical-align: top;\n",
              "    }\n",
              "\n",
              "    .dataframe thead th {\n",
              "        text-align: right;\n",
              "    }\n",
              "</style>\n",
              "<table border=\"1\" class=\"dataframe\">\n",
              "  <thead>\n",
              "    <tr style=\"text-align: right;\">\n",
              "      <th></th>\n",
              "      <th>Time</th>\n",
              "      <th>SYN</th>\n",
              "      <th>ACK</th>\n",
              "      <th>RST</th>\n",
              "      <th>Frame_length</th>\n",
              "    </tr>\n",
              "  </thead>\n",
              "  <tbody>\n",
              "    <tr>\n",
              "      <th>0</th>\n",
              "      <td>0.000000</td>\n",
              "      <td>0</td>\n",
              "      <td>0</td>\n",
              "      <td>0</td>\n",
              "      <td>68</td>\n",
              "    </tr>\n",
              "    <tr>\n",
              "      <th>1</th>\n",
              "      <td>0.000218</td>\n",
              "      <td>0</td>\n",
              "      <td>1</td>\n",
              "      <td>0</td>\n",
              "      <td>900</td>\n",
              "    </tr>\n",
              "    <tr>\n",
              "      <th>2</th>\n",
              "      <td>0.000233</td>\n",
              "      <td>0</td>\n",
              "      <td>1</td>\n",
              "      <td>0</td>\n",
              "      <td>171</td>\n",
              "    </tr>\n",
              "    <tr>\n",
              "      <th>3</th>\n",
              "      <td>0.000235</td>\n",
              "      <td>0</td>\n",
              "      <td>1</td>\n",
              "      <td>0</td>\n",
              "      <td>1500</td>\n",
              "    </tr>\n",
              "    <tr>\n",
              "      <th>4</th>\n",
              "      <td>0.000466</td>\n",
              "      <td>0</td>\n",
              "      <td>1</td>\n",
              "      <td>0</td>\n",
              "      <td>126</td>\n",
              "    </tr>\n",
              "  </tbody>\n",
              "</table>\n",
              "</div>"
            ],
            "text/plain": [
              "       Time  SYN  ACK  RST  Frame_length\n",
              "0  0.000000    0    0    0            68\n",
              "1  0.000218    0    1    0           900\n",
              "2  0.000233    0    1    0           171\n",
              "3  0.000235    0    1    0          1500\n",
              "4  0.000466    0    1    0           126"
            ]
          },
          "metadata": {},
          "execution_count": 16
        }
      ]
    },
    {
      "cell_type": "code",
      "metadata": {
        "colab": {
          "base_uri": "https://localhost:8080/"
        },
        "id": "cYZgaUUuAxAR",
        "outputId": "678469f2-3de5-4dc4-8d31-de51d300a48b"
      },
      "source": [
        "dataset.info()"
      ],
      "execution_count": 17,
      "outputs": [
        {
          "output_type": "stream",
          "name": "stdout",
          "text": [
            "<class 'pandas.core.frame.DataFrame'>\n",
            "RangeIndex: 8047335 entries, 0 to 8047334\n",
            "Data columns (total 5 columns):\n",
            " #   Column        Dtype  \n",
            "---  ------        -----  \n",
            " 0   Time          float64\n",
            " 1   SYN           int64  \n",
            " 2   ACK           int64  \n",
            " 3   RST           int64  \n",
            " 4   Frame_length  int64  \n",
            "dtypes: float64(1), int64(4)\n",
            "memory usage: 307.0 MB\n"
          ]
        }
      ]
    },
    {
      "cell_type": "code",
      "metadata": {
        "colab": {
          "base_uri": "https://localhost:8080/"
        },
        "id": "08YRa9ARAykA",
        "outputId": "e091886a-efa3-4b0c-9214-4d915e459cda"
      },
      "source": [
        "dataset.isnull().sum()"
      ],
      "execution_count": 18,
      "outputs": [
        {
          "output_type": "execute_result",
          "data": {
            "text/plain": [
              "Time            0\n",
              "SYN             0\n",
              "ACK             0\n",
              "RST             0\n",
              "Frame_length    0\n",
              "dtype: int64"
            ]
          },
          "metadata": {},
          "execution_count": 18
        }
      ]
    },
    {
      "cell_type": "markdown",
      "metadata": {
        "id": "P19Bn_8ZG9TK"
      },
      "source": [
        "# Plan Of Action\n",
        "\n",
        "I plan to create a list of slices of the dataset, with each slice being attributed to one of the classes :  \"Attack\", \"No Attack\". Then I'll pass this pattern slice and the target to the model.\n",
        "\n",
        "So I will take a fixed size out of these slices and provide them as input to the CNN where slice of slice = input, target = attack T/F\n",
        "\n",
        "Feature I plan to use : \n",
        "1. Time (adjusted to be difference from start of slice)\n",
        "2. SYN\n",
        "3. ACK\n",
        "4. RST\n",
        "5. Frame_length\n",
        "\n",
        "\n",
        "The attack timings are provided in the attached article. \n",
        "I am not including IP. Trying to focus on packets received to predict malicious rate."
      ]
    },
    {
      "cell_type": "code",
      "metadata": {
        "colab": {
          "base_uri": "https://localhost:8080/"
        },
        "id": "5i0MuscQBOx2",
        "outputId": "f59c56be-029c-4476-edb0-dbea2b26070b"
      },
      "source": [
        "attack_time = [\n",
        "               [80.87054, 102.68198],\n",
        "               [180.94241, 203.55186],\n",
        "               [280.59444, 303.16265],\n",
        "               [381.01394, 403.65057]\n",
        "]\n",
        "\n",
        "print(min(dataset.Time), max(dataset.Time))"
      ],
      "execution_count": 20,
      "outputs": [
        {
          "output_type": "stream",
          "name": "stdout",
          "text": [
            "0.0 484.638749\n"
          ]
        }
      ]
    },
    {
      "cell_type": "markdown",
      "metadata": {
        "id": "956rBWf3j_jX"
      },
      "source": [
        "### Creating time slices for filtering first"
      ]
    },
    {
      "cell_type": "code",
      "metadata": {
        "colab": {
          "base_uri": "https://localhost:8080/"
        },
        "id": "HVfzP4fAhy5q",
        "outputId": "c3b1b9a5-5610-42ac-d5e3-c2cb91f2a3b9"
      },
      "source": [
        "curr = min(dataset.Time)\n",
        "time_slices = []\n",
        "for i in attack_time : \n",
        "  time_slices.append([curr, i[0]])\n",
        "  time_slices.append(i)\n",
        "  curr = i[1]\n",
        "time_slices.append([curr, max(dataset.Time)])\n",
        "print(time_slices)"
      ],
      "execution_count": 21,
      "outputs": [
        {
          "output_type": "stream",
          "name": "stdout",
          "text": [
            "[[0.0, 80.87054], [80.87054, 102.68198], [102.68198, 180.94241], [180.94241, 203.55186], [203.55186, 280.59444], [280.59444, 303.16265], [303.16265, 381.01394], [381.01394, 403.65057], [403.65057, 484.638749]]\n"
          ]
        }
      ]
    },
    {
      "cell_type": "markdown",
      "metadata": {
        "id": "MJ1_-2LUkGr6"
      },
      "source": [
        "### The real slices generation and assigning labels\n",
        "\n",
        "1 - Attack <br />\n",
        "0 - Not Attack <br />"
      ]
    },
    {
      "cell_type": "code",
      "metadata": {
        "id": "Xq1WCkB7jvYj"
      },
      "source": [
        "slices = []\n",
        "vals = []\n",
        "\n",
        "for i in time_slices :\n",
        "  slices.append(dataset[(dataset[\"Time\"]>=i[0]) & (dataset[\"Time\"]<=i[1])])\n",
        "  if i in attack_time : \n",
        "    vals.append(1)\n",
        "  else :\n",
        "    vals.append(0)"
      ],
      "execution_count": 22,
      "outputs": []
    },
    {
      "cell_type": "markdown",
      "metadata": {
        "id": "sergs3-Frtq2"
      },
      "source": [
        "We get the minimum length of a slice, we will need it for batch-wise data generation for our time series"
      ]
    },
    {
      "cell_type": "code",
      "metadata": {
        "colab": {
          "base_uri": "https://localhost:8080/"
        },
        "id": "ZFP73XbQrCjo",
        "outputId": "ab6223aa-2791-49ba-8ffa-d391031a9524"
      },
      "source": [
        "min_len = len(dataset)\n",
        "for i in slices : \n",
        "  min_len = min(min_len, len(i))\n",
        "print(min_len)"
      ],
      "execution_count": 23,
      "outputs": [
        {
          "output_type": "stream",
          "name": "stdout",
          "text": [
            "306098\n"
          ]
        }
      ]
    },
    {
      "cell_type": "markdown",
      "metadata": {
        "id": "R1sJ27Hm1xq8"
      },
      "source": [
        "# Checkpoint \n",
        "\n",
        "To prevent RAM overload"
      ]
    },
    {
      "cell_type": "code",
      "metadata": {
        "id": "kalgDn2oroQA"
      },
      "source": [
        "import pickle\n",
        "\n",
        "with open('drive/MyDrive/TCP_Slices.pickle', 'wb') as handle:\n",
        "    pickle.dump((time_slices, slices, vals), handle, protocol=pickle.HIGHEST_PROTOCOL)"
      ],
      "execution_count": 24,
      "outputs": []
    },
    {
      "cell_type": "markdown",
      "metadata": {
        "id": "vN4QDdVh3ONj"
      },
      "source": [
        "## Resume execution here"
      ]
    },
    {
      "cell_type": "code",
      "metadata": {
        "id": "Ovdb_3N92Psr"
      },
      "source": [
        "import pickle\n",
        "import pandas as pd\n",
        "import numpy as np\n",
        "import matplotlib.pyplot as plt\n",
        "import tensorflow as tf\n",
        "import random\n",
        "\n",
        "plt.rcParams[\"figure.figsize\"] = (10,10)\n",
        "\n",
        "with open('drive/MyDrive/TCP_Slices.pickle', 'rb') as handle:\n",
        "  f =  pickle.load(handle)\n",
        "  time_slices, slices, vals  = f\n",
        "\n",
        "num_x_signals = 4\n",
        "num_y_signals = 1"
      ],
      "execution_count": 25,
      "outputs": []
    },
    {
      "cell_type": "code",
      "metadata": {
        "id": "aI4E3TXdYynB"
      },
      "source": [
        "def batch_generator(batch_size=1,  sequence_length=1000):\n",
        "    while True:\n",
        "      x_batch = []\n",
        "      y_batch = []\n",
        "      for i in range(batch_size):\n",
        "        ind = random.randint(0, len(slices)-1)\n",
        "        x = slices[ind]\n",
        "        idx = random.randint(0,len(x)-sequence_length-1)\n",
        "        x_batch.append(np.array(x.drop([\"Time\"], axis=1)[idx : idx+sequence_length])[...,np.newaxis])\n",
        "        y_batch.append(np.array([vals[ind]]))\n",
        "      yield (np.array(x_batch), np.array(y_batch))\n",
        "  \n",
        "  \n",
        "train_batch_size = 20\n",
        "val_batch_size = 20\n",
        "sequence_length = 10000\n",
        "\n",
        "train_generator = batch_generator(batch_size=train_batch_size, sequence_length=sequence_length)\n",
        "val_generator = batch_generator(batch_size=val_batch_size, sequence_length=sequence_length)"
      ],
      "execution_count": 26,
      "outputs": []
    },
    {
      "cell_type": "code",
      "metadata": {
        "colab": {
          "base_uri": "https://localhost:8080/"
        },
        "id": "EUIkf6rsGUkE",
        "outputId": "dc2df381-a95a-4891-f9b6-76b9a73a4ca7"
      },
      "source": [
        "model = tf.keras.models.Sequential([\n",
        "  tf.keras.layers.Conv2D(filters=64, kernel_size=3, padding=\"same\", activation=\"relu\", input_shape=(sequence_length, num_x_signals, 1)), \n",
        "  tf.keras.layers.MaxPool2D(pool_size=3, strides=3, padding='valid'),\n",
        "  tf.keras.layers.Flatten(),\n",
        "  tf.keras.layers.Dense(128),\n",
        "  tf.keras.layers.Dropout(0.4),\n",
        "  tf.keras.layers.Dense(64),\n",
        "  tf.keras.layers.Dropout(0.4),\n",
        "  tf.keras.layers.Dense(32),\n",
        "  tf.keras.layers.Dense(1, activation=\"sigmoid\")\n",
        "])\n",
        "\n",
        "model.compile(\n",
        "    optimizer = \"adam\", \n",
        "    metrics = [\"accuracy\"],\n",
        "    loss = \"binary_crossentropy\"\n",
        ")\n",
        "\n",
        "model.summary()"
      ],
      "execution_count": 30,
      "outputs": [
        {
          "output_type": "stream",
          "name": "stdout",
          "text": [
            "Model: \"sequential_1\"\n",
            "_________________________________________________________________\n",
            "Layer (type)                 Output Shape              Param #   \n",
            "=================================================================\n",
            "conv2d_1 (Conv2D)            (None, 10000, 4, 64)      640       \n",
            "_________________________________________________________________\n",
            "max_pooling2d_1 (MaxPooling2 (None, 3333, 1, 64)       0         \n",
            "_________________________________________________________________\n",
            "flatten_1 (Flatten)          (None, 213312)            0         \n",
            "_________________________________________________________________\n",
            "dense_3 (Dense)              (None, 128)               27304064  \n",
            "_________________________________________________________________\n",
            "dropout_1 (Dropout)          (None, 128)               0         \n",
            "_________________________________________________________________\n",
            "dense_4 (Dense)              (None, 64)                8256      \n",
            "_________________________________________________________________\n",
            "dropout_2 (Dropout)          (None, 64)                0         \n",
            "_________________________________________________________________\n",
            "dense_5 (Dense)              (None, 32)                2080      \n",
            "_________________________________________________________________\n",
            "dense_6 (Dense)              (None, 1)                 33        \n",
            "=================================================================\n",
            "Total params: 27,315,073\n",
            "Trainable params: 27,315,073\n",
            "Non-trainable params: 0\n",
            "_________________________________________________________________\n"
          ]
        }
      ]
    },
    {
      "cell_type": "code",
      "metadata": {
        "colab": {
          "base_uri": "https://localhost:8080/"
        },
        "id": "od4mbAyFS6Gr",
        "outputId": "39a4d736-9ed4-41ae-8d20-35a776b207d6"
      },
      "source": [
        "epochs = 50\n",
        "steps_per_epoch = 20\n",
        "\n",
        "\n",
        "model.fit_generator(\n",
        "    generator = train_generator,\n",
        "    epochs = epochs,\n",
        "    steps_per_epoch = steps_per_epoch,\n",
        "    validation_data = val_generator,\n",
        "    validation_steps = 5\n",
        ")"
      ],
      "execution_count": 33,
      "outputs": [
        {
          "output_type": "stream",
          "name": "stderr",
          "text": [
            "/usr/local/lib/python3.7/dist-packages/keras/engine/training.py:1972: UserWarning: `Model.fit_generator` is deprecated and will be removed in a future version. Please use `Model.fit`, which supports generators.\n",
            "  warnings.warn('`Model.fit_generator` is deprecated and '\n"
          ]
        },
        {
          "output_type": "stream",
          "name": "stdout",
          "text": [
            "Epoch 1/50\n",
            "20/20 [==============================] - 5s 249ms/step - loss: 1.1960 - accuracy: 0.7475 - val_loss: 0.3589 - val_accuracy: 0.9000\n",
            "Epoch 2/50\n",
            "20/20 [==============================] - 5s 243ms/step - loss: 1.3857 - accuracy: 0.7375 - val_loss: 0.5898 - val_accuracy: 0.8200\n",
            "Epoch 3/50\n",
            "20/20 [==============================] - 5s 246ms/step - loss: 1.2852 - accuracy: 0.7500 - val_loss: 2.2291 - val_accuracy: 0.6500\n",
            "Epoch 4/50\n",
            "20/20 [==============================] - 5s 245ms/step - loss: 0.7447 - accuracy: 0.8225 - val_loss: 0.4870 - val_accuracy: 0.8600\n",
            "Epoch 5/50\n",
            "20/20 [==============================] - 5s 246ms/step - loss: 0.6870 - accuracy: 0.8350 - val_loss: 0.4709 - val_accuracy: 0.8000\n",
            "Epoch 6/50\n",
            "20/20 [==============================] - 5s 249ms/step - loss: 0.5634 - accuracy: 0.8625 - val_loss: 0.2952 - val_accuracy: 0.8800\n",
            "Epoch 7/50\n",
            "20/20 [==============================] - 5s 249ms/step - loss: 0.7920 - accuracy: 0.8325 - val_loss: 0.3695 - val_accuracy: 0.8800\n",
            "Epoch 8/50\n",
            "20/20 [==============================] - 5s 250ms/step - loss: 0.6679 - accuracy: 0.8200 - val_loss: 0.7868 - val_accuracy: 0.8000\n",
            "Epoch 9/50\n",
            "20/20 [==============================] - 5s 248ms/step - loss: 0.7979 - accuracy: 0.8100 - val_loss: 0.3871 - val_accuracy: 0.8700\n",
            "Epoch 10/50\n",
            "20/20 [==============================] - 5s 253ms/step - loss: 0.7930 - accuracy: 0.7725 - val_loss: 0.2119 - val_accuracy: 0.9300\n",
            "Epoch 11/50\n",
            "20/20 [==============================] - 5s 248ms/step - loss: 0.9792 - accuracy: 0.7675 - val_loss: 0.3556 - val_accuracy: 0.8700\n",
            "Epoch 12/50\n",
            "20/20 [==============================] - 5s 246ms/step - loss: 0.6349 - accuracy: 0.8100 - val_loss: 0.9748 - val_accuracy: 0.7300\n",
            "Epoch 13/50\n",
            "20/20 [==============================] - 5s 249ms/step - loss: 0.7699 - accuracy: 0.8075 - val_loss: 0.7452 - val_accuracy: 0.7900\n",
            "Epoch 14/50\n",
            "20/20 [==============================] - 5s 236ms/step - loss: 0.7492 - accuracy: 0.8000 - val_loss: 0.1777 - val_accuracy: 0.9300\n",
            "Epoch 15/50\n",
            "20/20 [==============================] - 5s 253ms/step - loss: 0.8092 - accuracy: 0.7825 - val_loss: 0.8947 - val_accuracy: 0.7600\n",
            "Epoch 16/50\n",
            "20/20 [==============================] - 5s 251ms/step - loss: 0.8045 - accuracy: 0.7975 - val_loss: 0.4237 - val_accuracy: 0.8900\n",
            "Epoch 17/50\n",
            "20/20 [==============================] - 5s 254ms/step - loss: 0.9239 - accuracy: 0.7750 - val_loss: 1.3771 - val_accuracy: 0.6000\n",
            "Epoch 18/50\n",
            "20/20 [==============================] - 5s 257ms/step - loss: 0.8071 - accuracy: 0.8075 - val_loss: 0.2637 - val_accuracy: 0.8800\n",
            "Epoch 19/50\n",
            "20/20 [==============================] - 5s 241ms/step - loss: 0.8154 - accuracy: 0.8050 - val_loss: 0.4390 - val_accuracy: 0.8400\n",
            "Epoch 20/50\n",
            "20/20 [==============================] - 5s 243ms/step - loss: 0.5862 - accuracy: 0.8150 - val_loss: 0.3400 - val_accuracy: 0.8600\n",
            "Epoch 21/50\n",
            "20/20 [==============================] - 5s 248ms/step - loss: 0.6332 - accuracy: 0.8325 - val_loss: 0.4534 - val_accuracy: 0.8200\n",
            "Epoch 22/50\n",
            "20/20 [==============================] - 5s 250ms/step - loss: 0.5706 - accuracy: 0.8325 - val_loss: 0.2422 - val_accuracy: 0.8800\n",
            "Epoch 23/50\n",
            "20/20 [==============================] - 5s 278ms/step - loss: 0.8462 - accuracy: 0.7650 - val_loss: 0.2987 - val_accuracy: 0.8900\n",
            "Epoch 24/50\n",
            "20/20 [==============================] - 5s 247ms/step - loss: 0.6851 - accuracy: 0.7975 - val_loss: 0.1583 - val_accuracy: 0.9200\n",
            "Epoch 25/50\n",
            "20/20 [==============================] - 5s 262ms/step - loss: 0.7038 - accuracy: 0.7850 - val_loss: 1.7446 - val_accuracy: 0.5700\n",
            "Epoch 26/50\n",
            "20/20 [==============================] - 5s 246ms/step - loss: 0.6114 - accuracy: 0.8300 - val_loss: 0.3675 - val_accuracy: 0.9100\n",
            "Epoch 27/50\n",
            "20/20 [==============================] - 5s 255ms/step - loss: 0.6217 - accuracy: 0.7750 - val_loss: 0.8453 - val_accuracy: 0.8100\n",
            "Epoch 28/50\n",
            "20/20 [==============================] - 5s 242ms/step - loss: 0.6303 - accuracy: 0.7975 - val_loss: 0.3281 - val_accuracy: 0.8900\n",
            "Epoch 29/50\n",
            "20/20 [==============================] - 5s 256ms/step - loss: 0.4861 - accuracy: 0.8350 - val_loss: 0.7149 - val_accuracy: 0.7700\n",
            "Epoch 30/50\n",
            "20/20 [==============================] - 5s 256ms/step - loss: 0.5994 - accuracy: 0.8125 - val_loss: 0.2806 - val_accuracy: 0.9000\n",
            "Epoch 31/50\n",
            "20/20 [==============================] - 5s 244ms/step - loss: 0.6834 - accuracy: 0.8025 - val_loss: 0.4006 - val_accuracy: 0.8800\n",
            "Epoch 32/50\n",
            "20/20 [==============================] - 5s 256ms/step - loss: 0.5030 - accuracy: 0.8300 - val_loss: 1.0419 - val_accuracy: 0.7400\n",
            "Epoch 33/50\n",
            "20/20 [==============================] - 5s 252ms/step - loss: 0.5031 - accuracy: 0.8225 - val_loss: 0.1981 - val_accuracy: 0.9200\n",
            "Epoch 34/50\n",
            "20/20 [==============================] - 5s 251ms/step - loss: 0.7355 - accuracy: 0.7875 - val_loss: 0.2880 - val_accuracy: 0.8700\n",
            "Epoch 35/50\n",
            "20/20 [==============================] - 5s 247ms/step - loss: 0.4254 - accuracy: 0.8300 - val_loss: 0.2461 - val_accuracy: 0.8800\n",
            "Epoch 36/50\n",
            "20/20 [==============================] - 5s 246ms/step - loss: 0.4944 - accuracy: 0.8200 - val_loss: 0.7062 - val_accuracy: 0.7700\n",
            "Epoch 37/50\n",
            "20/20 [==============================] - 5s 248ms/step - loss: 0.5089 - accuracy: 0.8150 - val_loss: 0.3489 - val_accuracy: 0.8400\n",
            "Epoch 38/50\n",
            "20/20 [==============================] - 5s 256ms/step - loss: 0.9415 - accuracy: 0.7050 - val_loss: 0.6344 - val_accuracy: 0.8200\n",
            "Epoch 39/50\n",
            "20/20 [==============================] - 5s 247ms/step - loss: 0.7450 - accuracy: 0.7750 - val_loss: 0.1610 - val_accuracy: 0.9500\n",
            "Epoch 40/50\n",
            "20/20 [==============================] - 5s 251ms/step - loss: 0.6850 - accuracy: 0.7975 - val_loss: 0.4177 - val_accuracy: 0.8300\n",
            "Epoch 41/50\n",
            "20/20 [==============================] - 5s 252ms/step - loss: 0.7473 - accuracy: 0.7625 - val_loss: 0.2102 - val_accuracy: 0.9300\n",
            "Epoch 42/50\n",
            "20/20 [==============================] - 5s 236ms/step - loss: 0.9351 - accuracy: 0.7225 - val_loss: 1.7540 - val_accuracy: 0.6100\n",
            "Epoch 43/50\n",
            "20/20 [==============================] - 5s 245ms/step - loss: 1.1362 - accuracy: 0.7300 - val_loss: 0.2440 - val_accuracy: 0.8800\n",
            "Epoch 44/50\n",
            "20/20 [==============================] - 5s 261ms/step - loss: 0.6315 - accuracy: 0.8175 - val_loss: 0.4012 - val_accuracy: 0.8700\n",
            "Epoch 45/50\n",
            "20/20 [==============================] - 5s 253ms/step - loss: 0.5967 - accuracy: 0.8200 - val_loss: 0.1942 - val_accuracy: 0.9300\n",
            "Epoch 46/50\n",
            "20/20 [==============================] - 5s 247ms/step - loss: 0.7477 - accuracy: 0.7875 - val_loss: 1.3343 - val_accuracy: 0.6100\n",
            "Epoch 47/50\n",
            "20/20 [==============================] - 5s 253ms/step - loss: 1.9890 - accuracy: 0.6425 - val_loss: 0.3335 - val_accuracy: 0.8500\n",
            "Epoch 48/50\n",
            "20/20 [==============================] - 5s 254ms/step - loss: 0.9538 - accuracy: 0.7600 - val_loss: 0.6405 - val_accuracy: 0.8300\n",
            "Epoch 49/50\n",
            "20/20 [==============================] - 5s 254ms/step - loss: 1.0278 - accuracy: 0.7225 - val_loss: 0.7153 - val_accuracy: 0.7400\n",
            "Epoch 50/50\n",
            "20/20 [==============================] - 5s 253ms/step - loss: 0.9473 - accuracy: 0.7375 - val_loss: 0.3196 - val_accuracy: 0.8600\n"
          ]
        },
        {
          "output_type": "execute_result",
          "data": {
            "text/plain": [
              "<keras.callbacks.History at 0x7fc1d73b91d0>"
            ]
          },
          "metadata": {},
          "execution_count": 33
        }
      ]
    },
    {
      "cell_type": "markdown",
      "metadata": {
        "id": "cD_MzA_cqnME"
      },
      "source": [
        "# Conclusion\n",
        "\n",
        "The above model takes a sequence of 10000 rows as an input and returns if the system is under attack or not with 86% accuracy. We can be attach it to a real server and pass the last 10000 wireshark logs of the server to it and it will automatically close down the server if needed."
      ]
    }
  ]
}