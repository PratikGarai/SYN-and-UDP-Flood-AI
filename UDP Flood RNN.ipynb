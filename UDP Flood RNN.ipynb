{
 "cells": [
  {
   "cell_type": "markdown",
   "metadata": {
    "id": "kUXhxy1DuHKk"
   },
   "source": [
    "# UDP Flood Attack Detection using RNNs\n",
    "\n",
    "Links \n",
    "1. <a href=\"https://data.mendeley.com/datasets/mfnn9bh42m/1#file-ba7d3a46-1dc3-452e-aeac-26d909389b29\">Dataset</a>\n",
    "2. <a href=\"https://www.sciencedirect.com/science/article/pii/S2352340920310817#bib0005\">Paper</a>"
   ]
  },
  {
   "cell_type": "code",
   "execution_count": 1,
   "metadata": {
    "colab": {
     "base_uri": "https://localhost:8080/"
    },
    "id": "zVI1AS-z7RJW",
    "outputId": "55e9251a-a359-4191-9d34-4f359087f150"
   },
   "outputs": [
    {
     "name": "stdout",
     "output_type": "stream",
     "text": [
      "Mounted at /content/drive\n"
     ]
    }
   ],
   "source": [
    "from google.colab import drive\n",
    "drive.mount('/content/drive')"
   ]
  },
  {
   "cell_type": "code",
   "execution_count": 2,
   "metadata": {
    "id": "GZ9hXq9O8Trh"
   },
   "outputs": [],
   "source": [
    "!cp drive/MyDrive/mfnn9bh42m-1.zip ."
   ]
  },
  {
   "cell_type": "code",
   "execution_count": 3,
   "metadata": {
    "colab": {
     "base_uri": "https://localhost:8080/"
    },
    "id": "mlibqa6fCJlv",
    "outputId": "54727357-e9ee-47be-ece8-c3c38e2964b9"
   },
   "outputs": [
    {
     "name": "stdout",
     "output_type": "stream",
     "text": [
      "Archive:  mfnn9bh42m-1.zip\n",
      "  inflating: BOUN_DDoS dataset.zip   \n"
     ]
    }
   ],
   "source": [
    "!unzip mfnn9bh42m-1.zip"
   ]
  },
  {
   "cell_type": "code",
   "execution_count": 4,
   "metadata": {
    "colab": {
     "base_uri": "https://localhost:8080/"
    },
    "id": "UFSl5fBdXNPE",
    "outputId": "d28371b7-22ee-40c4-e19c-96e4a9e7bd6e"
   },
   "outputs": [
    {
     "name": "stdout",
     "output_type": "stream",
     "text": [
      "Archive:  BOUN_DDoS dataset.zip\n",
      "   creating: BOUN_DDoS dataset/\n",
      "  inflating: BOUN_DDoS dataset/BOUN_TCP_Anon.csv  \n",
      "  inflating: BOUN_DDoS dataset/BOUN_UDP_Anon.csv  \n"
     ]
    }
   ],
   "source": [
    "!unzip BOUN_DDoS\\ dataset.zip"
   ]
  },
  {
   "cell_type": "code",
   "execution_count": 5,
   "metadata": {
    "id": "U991fZLQ8lVI"
   },
   "outputs": [],
   "source": [
    "file1 = \"BOUN_DDoS dataset/BOUN_TCP_Anon.csv\"\n",
    "file2 = \"BOUN_DDoS dataset/BOUN_UDP_Anon.csv\" "
   ]
  },
  {
   "cell_type": "code",
   "execution_count": 6,
   "metadata": {
    "id": "rfKVQeVODLAt"
   },
   "outputs": [],
   "source": [
    "import pandas as pd\n",
    "import numpy as np\n",
    "import matplotlib.pyplot as plt\n",
    "plt.rcParams[\"figure.figsize\"] = (10,10)"
   ]
  },
  {
   "cell_type": "code",
   "execution_count": 7,
   "metadata": {
    "colab": {
     "base_uri": "https://localhost:8080/",
     "height": 206
    },
    "id": "eLtDtVTJDMU9",
    "outputId": "cfcf1ad9-c32b-448b-e64d-3cd935efc457"
   },
   "outputs": [
    {
     "data": {
      "text/html": [
       "<div>\n",
       "<style scoped>\n",
       "    .dataframe tbody tr th:only-of-type {\n",
       "        vertical-align: middle;\n",
       "    }\n",
       "\n",
       "    .dataframe tbody tr th {\n",
       "        vertical-align: top;\n",
       "    }\n",
       "\n",
       "    .dataframe thead th {\n",
       "        text-align: right;\n",
       "    }\n",
       "</style>\n",
       "<table border=\"1\" class=\"dataframe\">\n",
       "  <thead>\n",
       "    <tr style=\"text-align: right;\">\n",
       "      <th></th>\n",
       "      <th>Time</th>\n",
       "      <th>Frame Number</th>\n",
       "      <th>Frame_length</th>\n",
       "      <th>Source_ip</th>\n",
       "      <th>Destination_IP</th>\n",
       "      <th>Source_Port</th>\n",
       "      <th>Destination_Port</th>\n",
       "      <th>SYN</th>\n",
       "      <th>ACK</th>\n",
       "      <th>RST</th>\n",
       "      <th>TTL</th>\n",
       "      <th>TCP_Protocol</th>\n",
       "    </tr>\n",
       "  </thead>\n",
       "  <tbody>\n",
       "    <tr>\n",
       "      <th>0</th>\n",
       "      <td>0.000000</td>\n",
       "      <td>1</td>\n",
       "      <td>68</td>\n",
       "      <td>92.45.54.178</td>\n",
       "      <td>10.50.209.134</td>\n",
       "      <td>NaN</td>\n",
       "      <td>NaN</td>\n",
       "      <td>NaN</td>\n",
       "      <td>NaN</td>\n",
       "      <td>NaN</td>\n",
       "      <td>116</td>\n",
       "      <td>UDP</td>\n",
       "    </tr>\n",
       "    <tr>\n",
       "      <th>1</th>\n",
       "      <td>0.000218</td>\n",
       "      <td>2</td>\n",
       "      <td>900</td>\n",
       "      <td>10.50.197.6</td>\n",
       "      <td>31.13.84.8</td>\n",
       "      <td>49218.0</td>\n",
       "      <td>443.0</td>\n",
       "      <td>Not set</td>\n",
       "      <td>Set</td>\n",
       "      <td>Not set</td>\n",
       "      <td>127</td>\n",
       "      <td>TCP</td>\n",
       "    </tr>\n",
       "    <tr>\n",
       "      <th>2</th>\n",
       "      <td>0.000233</td>\n",
       "      <td>3</td>\n",
       "      <td>171</td>\n",
       "      <td>31.13.84.8</td>\n",
       "      <td>192.168.66.111</td>\n",
       "      <td>443.0</td>\n",
       "      <td>40991.0</td>\n",
       "      <td>Not set</td>\n",
       "      <td>Set</td>\n",
       "      <td>Not set</td>\n",
       "      <td>252,87</td>\n",
       "      <td>TCP</td>\n",
       "    </tr>\n",
       "    <tr>\n",
       "      <th>3</th>\n",
       "      <td>0.000235</td>\n",
       "      <td>4</td>\n",
       "      <td>1500</td>\n",
       "      <td>192.168.68.148</td>\n",
       "      <td>54.225.245.82</td>\n",
       "      <td>54602.0</td>\n",
       "      <td>443.0</td>\n",
       "      <td>Not set</td>\n",
       "      <td>Set</td>\n",
       "      <td>Not set</td>\n",
       "      <td>63,64</td>\n",
       "      <td>TCP</td>\n",
       "    </tr>\n",
       "    <tr>\n",
       "      <th>4</th>\n",
       "      <td>0.000466</td>\n",
       "      <td>5</td>\n",
       "      <td>126</td>\n",
       "      <td>192.168.79.128</td>\n",
       "      <td>64.15.113.173</td>\n",
       "      <td>55251.0</td>\n",
       "      <td>443.0</td>\n",
       "      <td>Not set</td>\n",
       "      <td>Set</td>\n",
       "      <td>Not set</td>\n",
       "      <td>63,64</td>\n",
       "      <td>TCP</td>\n",
       "    </tr>\n",
       "  </tbody>\n",
       "</table>\n",
       "</div>"
      ],
      "text/plain": [
       "       Time  Frame Number  Frame_length  ...      RST     TTL  TCP_Protocol\n",
       "0  0.000000             1            68  ...      NaN     116           UDP\n",
       "1  0.000218             2           900  ...  Not set     127           TCP\n",
       "2  0.000233             3           171  ...  Not set  252,87           TCP\n",
       "3  0.000235             4          1500  ...  Not set   63,64           TCP\n",
       "4  0.000466             5           126  ...  Not set   63,64           TCP\n",
       "\n",
       "[5 rows x 12 columns]"
      ]
     },
     "execution_count": 7,
     "metadata": {},
     "output_type": "execute_result"
    }
   ],
   "source": [
    "data1 = pd.read_csv(file2)\n",
    "data1.head()"
   ]
  },
  {
   "cell_type": "code",
   "execution_count": 8,
   "metadata": {
    "colab": {
     "base_uri": "https://localhost:8080/"
    },
    "id": "6qzxEocnDQB-",
    "outputId": "e4b790db-4ce4-4951-dc79-8799d468bca5"
   },
   "outputs": [
    {
     "name": "stdout",
     "output_type": "stream",
     "text": [
      "<class 'pandas.core.frame.DataFrame'>\n",
      "RangeIndex: 8047335 entries, 0 to 8047334\n",
      "Data columns (total 12 columns):\n",
      " #   Column            Dtype  \n",
      "---  ------            -----  \n",
      " 0   Time              float64\n",
      " 1   Frame Number      int64  \n",
      " 2   Frame_length      int64  \n",
      " 3   Source_ip         object \n",
      " 4   Destination_IP    object \n",
      " 5   Source_Port       float64\n",
      " 6   Destination_Port  float64\n",
      " 7   SYN               object \n",
      " 8   ACK               object \n",
      " 9   RST               object \n",
      " 10  TTL               object \n",
      " 11  TCP_Protocol      object \n",
      "dtypes: float64(3), int64(2), object(7)\n",
      "memory usage: 736.8+ MB\n"
     ]
    }
   ],
   "source": [
    "data1.info()"
   ]
  },
  {
   "cell_type": "code",
   "execution_count": 9,
   "metadata": {
    "colab": {
     "base_uri": "https://localhost:8080/"
    },
    "id": "qZr8kmj-DZ92",
    "outputId": "ae8ce249-67c4-46de-c4bd-8a3689a0c55b"
   },
   "outputs": [
    {
     "data": {
      "text/plain": [
       "Time                      0\n",
       "Frame Number              0\n",
       "Frame_length              0\n",
       "Source_ip                 0\n",
       "Destination_IP            0\n",
       "Source_Port         3964642\n",
       "Destination_Port    3964642\n",
       "SYN                 3964647\n",
       "ACK                 3964647\n",
       "RST                 3964647\n",
       "TTL                   34446\n",
       "TCP_Protocol          34446\n",
       "dtype: int64"
      ]
     },
     "execution_count": 9,
     "metadata": {},
     "output_type": "execute_result"
    }
   ],
   "source": [
    "data1.isnull().sum()"
   ]
  },
  {
   "cell_type": "code",
   "execution_count": 10,
   "metadata": {
    "colab": {
     "base_uri": "https://localhost:8080/"
    },
    "id": "-lXKkapkvWPe",
    "outputId": "5d9487c5-59ad-43a7-a0a1-15f06ca40072"
   },
   "outputs": [
    {
     "data": {
      "text/plain": [
       "Time                7790833\n",
       "Frame Number        8047335\n",
       "Frame_length           8963\n",
       "Source_ip            272509\n",
       "Destination_IP        11656\n",
       "Source_Port           20345\n",
       "Destination_Port      20450\n",
       "SYN                       2\n",
       "ACK                       2\n",
       "RST                       2\n",
       "TTL                     465\n",
       "TCP_Protocol              9\n",
       "dtype: int64"
      ]
     },
     "execution_count": 10,
     "metadata": {},
     "output_type": "execute_result"
    }
   ],
   "source": [
    "data1.nunique()"
   ]
  },
  {
   "cell_type": "markdown",
   "metadata": {
    "id": "1gRkne1f8jAQ"
   },
   "source": [
    "## Checking For Boundaries\n",
    "\n",
    "A experimental check to find the places where the traffic is relaxed (possible end of attacks)"
   ]
  },
  {
   "cell_type": "code",
   "execution_count": 12,
   "metadata": {
    "colab": {
     "base_uri": "https://localhost:8080/",
     "height": 623
    },
    "id": "aKtbOLyYxbNa",
    "outputId": "71605f11-aff5-4eb6-db07-68042e57fc9e"
   },
   "outputs": [
    {
     "data": {
      "text/plain": [
       "[<matplotlib.lines.Line2D at 0x7f9a97486a50>]"
      ]
     },
     "execution_count": 12,
     "metadata": {},
     "output_type": "execute_result"
    },
    {
     "data": {
      "image/png": "[encoded data removed]",
      "text/plain": [
       "<Figure size 720x720 with 1 Axes>"
      ]
     },
     "metadata": {
      "needs_background": "light"
     },
     "output_type": "display_data"
    }
   ],
   "source": [
    "times = data1[\"Time\"]\n",
    "last = times[0]\n",
    "diffs = []\n",
    "for i in times[1:] :\n",
    "  diffs.append(i-last)\n",
    "  last = i\n",
    "\n",
    "plt.plot(list(range(len(diffs))), diffs)"
   ]
  },
  {
   "cell_type": "markdown",
   "metadata": {
    "id": "uqATWmcf_UdB"
   },
   "source": [
    "## Dataset Generation\n",
    "\n",
    "Filling NA and replacing the string with appropriate numbers"
   ]
  },
  {
   "cell_type": "code",
   "execution_count": 13,
   "metadata": {
    "colab": {
     "base_uri": "https://localhost:8080/"
    },
    "id": "Qe8yzdwd_YIL",
    "outputId": "c533bb70-168b-4e97-f922-6b03a17d6549"
   },
   "outputs": [
    {
     "name": "stderr",
     "output_type": "stream",
     "text": [
      "/usr/local/lib/python3.7/dist-packages/ipykernel_launcher.py:2: SettingWithCopyWarning: \n",
      "A value is trying to be set on a copy of a slice from a DataFrame.\n",
      "Try using .loc[row_indexer,col_indexer] = value instead\n",
      "\n",
      "See the caveats in the documentation: https://pandas.pydata.org/pandas-docs/stable/user_guide/indexing.html#returning-a-view-versus-a-copy\n",
      "  \n",
      "/usr/local/lib/python3.7/dist-packages/ipykernel_launcher.py:3: SettingWithCopyWarning: \n",
      "A value is trying to be set on a copy of a slice from a DataFrame.\n",
      "Try using .loc[row_indexer,col_indexer] = value instead\n",
      "\n",
      "See the caveats in the documentation: https://pandas.pydata.org/pandas-docs/stable/user_guide/indexing.html#returning-a-view-versus-a-copy\n",
      "  This is separate from the ipykernel package so we can avoid doing imports until\n",
      "/usr/local/lib/python3.7/dist-packages/ipykernel_launcher.py:4: SettingWithCopyWarning: \n",
      "A value is trying to be set on a copy of a slice from a DataFrame.\n",
      "Try using .loc[row_indexer,col_indexer] = value instead\n",
      "\n",
      "See the caveats in the documentation: https://pandas.pydata.org/pandas-docs/stable/user_guide/indexing.html#returning-a-view-versus-a-copy\n",
      "  after removing the cwd from sys.path.\n",
      "/usr/local/lib/python3.7/dist-packages/ipykernel_launcher.py:5: SettingWithCopyWarning: \n",
      "A value is trying to be set on a copy of a slice from a DataFrame.\n",
      "Try using .loc[row_indexer,col_indexer] = value instead\n",
      "\n",
      "See the caveats in the documentation: https://pandas.pydata.org/pandas-docs/stable/user_guide/indexing.html#returning-a-view-versus-a-copy\n",
      "  \"\"\"\n",
      "/usr/local/lib/python3.7/dist-packages/ipykernel_launcher.py:6: SettingWithCopyWarning: \n",
      "A value is trying to be set on a copy of a slice from a DataFrame.\n",
      "Try using .loc[row_indexer,col_indexer] = value instead\n",
      "\n",
      "See the caveats in the documentation: https://pandas.pydata.org/pandas-docs/stable/user_guide/indexing.html#returning-a-view-versus-a-copy\n",
      "  \n",
      "/usr/local/lib/python3.7/dist-packages/ipykernel_launcher.py:7: SettingWithCopyWarning: \n",
      "A value is trying to be set on a copy of a slice from a DataFrame.\n",
      "Try using .loc[row_indexer,col_indexer] = value instead\n",
      "\n",
      "See the caveats in the documentation: https://pandas.pydata.org/pandas-docs/stable/user_guide/indexing.html#returning-a-view-versus-a-copy\n",
      "  import sys\n"
     ]
    }
   ],
   "source": [
    "dataset = data1[[\"Time\",\"SYN\",\"ACK\",\"RST\",\"Frame_length\"]]\n",
    "dataset[\"SYN\"] = dataset[\"SYN\"].fillna(0)\n",
    "dataset[\"ACK\"] = dataset[\"ACK\"].fillna(0)\n",
    "dataset[\"RST\"] = dataset[\"RST\"].fillna(0)\n",
    "dataset[\"SYN\"] = dataset[\"SYN\"].replace(['Set','Not set'],[1,0])\n",
    "dataset[\"ACK\"] = dataset[\"ACK\"].replace(['Set','Not set'],[1,0])\n",
    "dataset[\"RST\"] = dataset[\"RST\"].replace(['Set','Not set'],[1,0])"
   ]
  },
  {
   "cell_type": "code",
   "execution_count": 14,
   "metadata": {
    "colab": {
     "base_uri": "https://localhost:8080/",
     "height": 206
    },
    "id": "ETt-n9DT_tBs",
    "outputId": "90119cda-6c45-4cff-dfa2-bc9d75739089"
   },
   "outputs": [
    {
     "data": {
      "text/html": [
       "<div>\n",
       "<style scoped>\n",
       "    .dataframe tbody tr th:only-of-type {\n",
       "        vertical-align: middle;\n",
       "    }\n",
       "\n",
       "    .dataframe tbody tr th {\n",
       "        vertical-align: top;\n",
       "    }\n",
       "\n",
       "    .dataframe thead th {\n",
       "        text-align: right;\n",
       "    }\n",
       "</style>\n",
       "<table border=\"1\" class=\"dataframe\">\n",
       "  <thead>\n",
       "    <tr style=\"text-align: right;\">\n",
       "      <th></th>\n",
       "      <th>Time</th>\n",
       "      <th>SYN</th>\n",
       "      <th>ACK</th>\n",
       "      <th>RST</th>\n",
       "      <th>Frame_length</th>\n",
       "    </tr>\n",
       "  </thead>\n",
       "  <tbody>\n",
       "    <tr>\n",
       "      <th>0</th>\n",
       "      <td>0.000000</td>\n",
       "      <td>0</td>\n",
       "      <td>0</td>\n",
       "      <td>0</td>\n",
       "      <td>68</td>\n",
       "    </tr>\n",
       "    <tr>\n",
       "      <th>1</th>\n",
       "      <td>0.000218</td>\n",
       "      <td>0</td>\n",
       "      <td>1</td>\n",
       "      <td>0</td>\n",
       "      <td>900</td>\n",
       "    </tr>\n",
       "    <tr>\n",
       "      <th>2</th>\n",
       "      <td>0.000233</td>\n",
       "      <td>0</td>\n",
       "      <td>1</td>\n",
       "      <td>0</td>\n",
       "      <td>171</td>\n",
       "    </tr>\n",
       "    <tr>\n",
       "      <th>3</th>\n",
       "      <td>0.000235</td>\n",
       "      <td>0</td>\n",
       "      <td>1</td>\n",
       "      <td>0</td>\n",
       "      <td>1500</td>\n",
       "    </tr>\n",
       "    <tr>\n",
       "      <th>4</th>\n",
       "      <td>0.000466</td>\n",
       "      <td>0</td>\n",
       "      <td>1</td>\n",
       "      <td>0</td>\n",
       "      <td>126</td>\n",
       "    </tr>\n",
       "  </tbody>\n",
       "</table>\n",
       "</div>"
      ],
      "text/plain": [
       "       Time  SYN  ACK  RST  Frame_length\n",
       "0  0.000000    0    0    0            68\n",
       "1  0.000218    0    1    0           900\n",
       "2  0.000233    0    1    0           171\n",
       "3  0.000235    0    1    0          1500\n",
       "4  0.000466    0    1    0           126"
      ]
     },
     "execution_count": 14,
     "metadata": {},
     "output_type": "execute_result"
    }
   ],
   "source": [
    "dataset.head()"
   ]
  },
  {
   "cell_type": "code",
   "execution_count": 15,
   "metadata": {
    "colab": {
     "base_uri": "https://localhost:8080/"
    },
    "id": "cYZgaUUuAxAR",
    "outputId": "d766184a-7a96-462c-d260-8eaf0d18e9eb"
   },
   "outputs": [
    {
     "name": "stdout",
     "output_type": "stream",
     "text": [
      "<class 'pandas.core.frame.DataFrame'>\n",
      "RangeIndex: 8047335 entries, 0 to 8047334\n",
      "Data columns (total 5 columns):\n",
      " #   Column        Dtype  \n",
      "---  ------        -----  \n",
      " 0   Time          float64\n",
      " 1   SYN           int64  \n",
      " 2   ACK           int64  \n",
      " 3   RST           int64  \n",
      " 4   Frame_length  int64  \n",
      "dtypes: float64(1), int64(4)\n",
      "memory usage: 307.0 MB\n"
     ]
    }
   ],
   "source": [
    "dataset.info()"
   ]
  },
  {
   "cell_type": "code",
   "execution_count": 16,
   "metadata": {
    "colab": {
     "base_uri": "https://localhost:8080/"
    },
    "id": "08YRa9ARAykA",
    "outputId": "e28ec231-d258-4664-d3ac-5cbbc21c785f"
   },
   "outputs": [
    {
     "data": {
      "text/plain": [
       "Time            0\n",
       "SYN             0\n",
       "ACK             0\n",
       "RST             0\n",
       "Frame_length    0\n",
       "dtype: int64"
      ]
     },
     "execution_count": 16,
     "metadata": {},
     "output_type": "execute_result"
    }
   ],
   "source": [
    "dataset.isnull().sum()"
   ]
  },
  {
   "cell_type": "markdown",
   "metadata": {
    "id": "P19Bn_8ZG9TK"
   },
   "source": [
    "# Plan Of Action\n",
    "\n",
    "I plan to create a list of slices of the dataset, with each slice being attributed to one of the classes :  \"Attack\", \"No Attack\". Then I'll pass this time-series slice and the target to the model.\n",
    "\n",
    "So I will take a fixed size out of these slices and provide them as input to the RNN where slice of slice = input, target = attack T/F\n",
    "\n",
    "Feature I plan to use : \n",
    "1. Time (adjusted to be difference from start of slice)\n",
    "2. SYN\n",
    "3. ACK\n",
    "4. RST\n",
    "5. Frame_length\n",
    "\n",
    "\n",
    "The attack timings are provided in the attached article. \n",
    "I am not including IP. Trying to focus on packets received to predict malicious rate."
   ]
  },
  {
   "cell_type": "code",
   "execution_count": 17,
   "metadata": {
    "colab": {
     "base_uri": "https://localhost:8080/"
    },
    "id": "5i0MuscQBOx2",
    "outputId": "ed82c762-aced-4082-f699-8b4d00924806"
   },
   "outputs": [
    {
     "name": "stdout",
     "output_type": "stream",
     "text": [
      "0.0 484.638749\n"
     ]
    }
   ],
   "source": [
    "attack_time = [\n",
    "               [80.87054, 102.68198],\n",
    "               [180.94241, 203.55186],\n",
    "               [280.59444, 303.16265],\n",
    "               [381.01394, 403.65057]\n",
    "]\n",
    "\n",
    "print(min(dataset.Time), max(dataset.Time))"
   ]
  },
  {
   "cell_type": "markdown",
   "metadata": {
    "id": "956rBWf3j_jX"
   },
   "source": [
    "### Creating time slices for filtering first"
   ]
  },
  {
   "cell_type": "code",
   "execution_count": 18,
   "metadata": {
    "colab": {
     "base_uri": "https://localhost:8080/"
    },
    "id": "HVfzP4fAhy5q",
    "outputId": "7d35718b-7ab6-4e8f-c82d-9ae80b6e44c5"
   },
   "outputs": [
    {
     "name": "stdout",
     "output_type": "stream",
     "text": [
      "[[0.0, 80.87054], [80.87054, 102.68198], [102.68198, 180.94241], [180.94241, 203.55186], [203.55186, 280.59444], [280.59444, 303.16265], [303.16265, 381.01394], [381.01394, 403.65057], [403.65057, 484.638749]]\n"
     ]
    }
   ],
   "source": [
    "curr = min(dataset.Time)\n",
    "time_slices = []\n",
    "for i in attack_time : \n",
    "  time_slices.append([curr, i[0]])\n",
    "  time_slices.append(i)\n",
    "  curr = i[1]\n",
    "time_slices.append([curr, max(dataset.Time)])\n",
    "print(time_slices)"
   ]
  },
  {
   "cell_type": "markdown",
   "metadata": {
    "id": "MJ1_-2LUkGr6"
   },
   "source": [
    "### The real slices generation and assigning labels\n",
    "\n",
    "1 - Attack <br />\n",
    "0 - Not Attack <br />"
   ]
  },
  {
   "cell_type": "code",
   "execution_count": 19,
   "metadata": {
    "id": "Xq1WCkB7jvYj"
   },
   "outputs": [],
   "source": [
    "slices = []\n",
    "vals = []\n",
    "\n",
    "for i in time_slices :\n",
    "  slices.append(dataset[(dataset[\"Time\"]>=i[0]) & (dataset[\"Time\"]<=i[1])])\n",
    "  if i in attack_time : \n",
    "    vals.append(1)\n",
    "  else :\n",
    "    vals.append(0)"
   ]
  },
  {
   "cell_type": "markdown",
   "metadata": {
    "id": "sergs3-Frtq2"
   },
   "source": [
    "We get the minimum length of a slice, we will need it for batch-wise data generation for our time series"
   ]
  },
  {
   "cell_type": "code",
   "execution_count": 20,
   "metadata": {
    "colab": {
     "base_uri": "https://localhost:8080/"
    },
    "id": "ZFP73XbQrCjo",
    "outputId": "4ba3e856-98e3-4e71-e14d-d8c7e308ef48"
   },
   "outputs": [
    {
     "name": "stdout",
     "output_type": "stream",
     "text": [
      "306098\n"
     ]
    }
   ],
   "source": [
    "min_len = len(dataset)\n",
    "for i in slices : \n",
    "  min_len = min(min_len, len(i))\n",
    "print(min_len)"
   ]
  },
  {
   "cell_type": "markdown",
   "metadata": {
    "id": "R1sJ27Hm1xq8"
   },
   "source": [
    "# Checkpoint \n",
    "\n",
    "To prevent RAM overload"
   ]
  },
  {
   "cell_type": "code",
   "execution_count": 21,
   "metadata": {
    "id": "kalgDn2oroQA"
   },
   "outputs": [],
   "source": [
    "import pickle\n",
    "\n",
    "with open('drive/MyDrive/UDP_Slices.pickle', 'wb') as handle:\n",
    "    pickle.dump((time_slices, slices, vals), handle, protocol=pickle.HIGHEST_PROTOCOL)"
   ]
  },
  {
   "cell_type": "markdown",
   "metadata": {
    "id": "vN4QDdVh3ONj"
   },
   "source": [
    "## Resume execution here"
   ]
  },
  {
   "cell_type": "code",
   "execution_count": 22,
   "metadata": {
    "id": "Ovdb_3N92Psr"
   },
   "outputs": [],
   "source": [
    "import pickle\n",
    "import pandas as pd\n",
    "import numpy as np\n",
    "import matplotlib.pyplot as plt\n",
    "import tensorflow as tf\n",
    "import random\n",
    "\n",
    "plt.rcParams[\"figure.figsize\"] = (10,10)\n",
    "\n",
    "with open('drive/MyDrive/UDP_Slices.pickle', 'rb') as handle:\n",
    "  f =  pickle.load(handle)\n",
    "  time_slices, slices, vals  = f\n",
    "\n",
    "num_x_signals = 5\n",
    "num_y_signals = 1"
   ]
  },
  {
   "cell_type": "code",
   "execution_count": 23,
   "metadata": {
    "id": "aI4E3TXdYynB"
   },
   "outputs": [],
   "source": [
    "def batch_generator(batch_size=1,  sequence_length=1000):\n",
    "    while True:\n",
    "      x_batch = []\n",
    "      y_batch = []\n",
    "      for i in range(batch_size):\n",
    "        ind = random.randint(0, len(slices)-1)\n",
    "        x = slices[ind]\n",
    "        idx = random.randint(0,len(x)-sequence_length-1)\n",
    "        x_batch.append(np.array(x[idx : idx+sequence_length]))\n",
    "        y_batch.append(np.array([vals[ind]]))\n",
    "      yield (np.array(x_batch), np.array(y_batch))\n",
    "  \n",
    "  \n",
    "train_batch_size = 30\n",
    "val_batch_size = 5\n",
    "sequence_length = 1000\n",
    "\n",
    "train_generator = batch_generator(batch_size=train_batch_size, sequence_length=sequence_length)\n",
    "val_generator = batch_generator(batch_size=val_batch_size, sequence_length=sequence_length)"
   ]
  },
  {
   "cell_type": "code",
   "execution_count": 24,
   "metadata": {
    "colab": {
     "base_uri": "https://localhost:8080/"
    },
    "id": "EUIkf6rsGUkE",
    "outputId": "e26422ca-ffd8-4ed5-bd48-2e066c08c88b"
   },
   "outputs": [
    {
     "name": "stdout",
     "output_type": "stream",
     "text": [
      "Model: \"sequential\"\n",
      "_________________________________________________________________\n",
      "Layer (type)                 Output Shape              Param #   \n",
      "=================================================================\n",
      "lstm (LSTM)                  (None, 1000, 128)         68608     \n",
      "_________________________________________________________________\n",
      "dense (Dense)                (None, 1000, 256)         33024     \n",
      "_________________________________________________________________\n",
      "dense_1 (Dense)              (None, 1000, 128)         32896     \n",
      "_________________________________________________________________\n",
      "dense_2 (Dense)              (None, 1000, 1)           129       \n",
      "=================================================================\n",
      "Total params: 134,657\n",
      "Trainable params: 134,657\n",
      "Non-trainable params: 0\n",
      "_________________________________________________________________\n"
     ]
    }
   ],
   "source": [
    "model = tf.keras.models.Sequential([\n",
    "  tf.keras.layers.LSTM(128, input_shape = (sequence_length, num_x_signals, ), return_sequences = True), \n",
    "  tf.keras.layers.Dense(256),\n",
    "  tf.keras.layers.Dense(128),\n",
    "  tf.keras.layers.Dense(1, activation=\"sigmoid\")\n",
    "])\n",
    "\n",
    "model.compile(\n",
    "    optimizer = \"adam\", \n",
    "    metrics = [\"accuracy\"],\n",
    "    loss = \"binary_crossentropy\"\n",
    ")\n",
    "\n",
    "model.summary()"
   ]
  },
  {
   "cell_type": "code",
   "execution_count": 25,
   "metadata": {
    "colab": {
     "base_uri": "https://localhost:8080/"
    },
    "id": "od4mbAyFS6Gr",
    "outputId": "ca9dedb9-00ce-43e1-922e-92fb526b4c09"
   },
   "outputs": [
    {
     "name": "stderr",
     "output_type": "stream",
     "text": [
      "/usr/local/lib/python3.7/dist-packages/keras/engine/training.py:1972: UserWarning: `Model.fit_generator` is deprecated and will be removed in a future version. Please use `Model.fit`, which supports generators.\n",
      "  warnings.warn('`Model.fit_generator` is deprecated and '\n"
     ]
    },
    {
     "name": "stdout",
     "output_type": "stream",
     "text": [
      "Epoch 1/50\n",
      "20/20 [==============================] - 11s 198ms/step - loss: 0.6927 - accuracy: 0.5579 - val_loss: 0.4062 - val_accuracy: 0.7962\n",
      "Epoch 2/50\n",
      "20/20 [==============================] - 3s 165ms/step - loss: 0.5928 - accuracy: 0.6380 - val_loss: 0.3905 - val_accuracy: 0.7364\n",
      "Epoch 3/50\n",
      "20/20 [==============================] - 3s 162ms/step - loss: 0.5718 - accuracy: 0.6607 - val_loss: 0.4048 - val_accuracy: 0.7520\n",
      "Epoch 4/50\n",
      "20/20 [==============================] - 3s 163ms/step - loss: 0.5492 - accuracy: 0.6983 - val_loss: 0.2985 - val_accuracy: 0.8808\n",
      "Epoch 5/50\n",
      "20/20 [==============================] - 3s 164ms/step - loss: 0.5270 - accuracy: 0.7226 - val_loss: 0.3361 - val_accuracy: 0.8080\n",
      "Epoch 6/50\n",
      "20/20 [==============================] - 3s 165ms/step - loss: 0.4750 - accuracy: 0.7575 - val_loss: 0.4393 - val_accuracy: 0.7202\n",
      "Epoch 7/50\n",
      "20/20 [==============================] - 3s 164ms/step - loss: 0.4908 - accuracy: 0.7369 - val_loss: 0.3327 - val_accuracy: 0.8106\n",
      "Epoch 8/50\n",
      "20/20 [==============================] - 3s 162ms/step - loss: 0.4460 - accuracy: 0.7946 - val_loss: 0.3719 - val_accuracy: 0.7752\n",
      "Epoch 9/50\n",
      "20/20 [==============================] - 3s 163ms/step - loss: 0.4429 - accuracy: 0.7900 - val_loss: 0.4855 - val_accuracy: 0.6968\n",
      "Epoch 10/50\n",
      "20/20 [==============================] - 3s 163ms/step - loss: 0.4489 - accuracy: 0.7880 - val_loss: 0.4047 - val_accuracy: 0.7462\n",
      "Epoch 11/50\n",
      "20/20 [==============================] - 3s 163ms/step - loss: 0.4559 - accuracy: 0.7752 - val_loss: 0.3005 - val_accuracy: 0.8572\n",
      "Epoch 12/50\n",
      "20/20 [==============================] - 3s 164ms/step - loss: 0.4204 - accuracy: 0.8008 - val_loss: 0.4312 - val_accuracy: 0.7248\n",
      "Epoch 13/50\n",
      "20/20 [==============================] - 3s 163ms/step - loss: 0.3908 - accuracy: 0.8222 - val_loss: 0.3295 - val_accuracy: 0.8286\n",
      "Epoch 14/50\n",
      "20/20 [==============================] - 3s 163ms/step - loss: 0.4060 - accuracy: 0.8056 - val_loss: 0.6743 - val_accuracy: 0.6386\n",
      "Epoch 15/50\n",
      "20/20 [==============================] - 3s 164ms/step - loss: 0.4425 - accuracy: 0.7802 - val_loss: 0.6003 - val_accuracy: 0.6534\n",
      "Epoch 16/50\n",
      "20/20 [==============================] - 3s 164ms/step - loss: 0.4309 - accuracy: 0.7922 - val_loss: 0.3347 - val_accuracy: 0.8460\n",
      "Epoch 17/50\n",
      "20/20 [==============================] - 3s 162ms/step - loss: 0.4155 - accuracy: 0.8036 - val_loss: 0.5790 - val_accuracy: 0.6494\n",
      "Epoch 18/50\n",
      "20/20 [==============================] - 3s 163ms/step - loss: 0.4118 - accuracy: 0.8058 - val_loss: 0.4381 - val_accuracy: 0.7220\n",
      "Epoch 19/50\n",
      "20/20 [==============================] - 3s 164ms/step - loss: 0.4392 - accuracy: 0.7866 - val_loss: 0.3142 - val_accuracy: 0.8560\n",
      "Epoch 20/50\n",
      "20/20 [==============================] - 3s 163ms/step - loss: 0.3928 - accuracy: 0.8221 - val_loss: 0.2692 - val_accuracy: 0.8834\n",
      "Epoch 21/50\n",
      "20/20 [==============================] - 3s 167ms/step - loss: 0.3342 - accuracy: 0.8566 - val_loss: 0.2690 - val_accuracy: 0.8720\n",
      "Epoch 22/50\n",
      "20/20 [==============================] - 3s 164ms/step - loss: 0.3952 - accuracy: 0.8157 - val_loss: 0.3585 - val_accuracy: 0.8124\n",
      "Epoch 23/50\n",
      "20/20 [==============================] - 3s 165ms/step - loss: 0.3791 - accuracy: 0.8265 - val_loss: 0.2492 - val_accuracy: 0.9010\n",
      "Epoch 24/50\n",
      "20/20 [==============================] - 3s 163ms/step - loss: 0.3844 - accuracy: 0.8201 - val_loss: 0.2274 - val_accuracy: 0.9202\n",
      "Epoch 25/50\n",
      "20/20 [==============================] - 3s 165ms/step - loss: 0.3751 - accuracy: 0.8201 - val_loss: 0.2029 - val_accuracy: 0.9350\n",
      "Epoch 26/50\n",
      "20/20 [==============================] - 3s 164ms/step - loss: 0.3449 - accuracy: 0.8462 - val_loss: 0.1964 - val_accuracy: 0.9308\n",
      "Epoch 27/50\n",
      "20/20 [==============================] - 3s 162ms/step - loss: 0.3262 - accuracy: 0.8488 - val_loss: 0.2606 - val_accuracy: 0.8960\n",
      "Epoch 28/50\n",
      "20/20 [==============================] - 3s 165ms/step - loss: 0.2896 - accuracy: 0.8740 - val_loss: 0.1913 - val_accuracy: 0.9320\n",
      "Epoch 29/50\n",
      "20/20 [==============================] - 3s 164ms/step - loss: 0.2763 - accuracy: 0.8809 - val_loss: 0.2113 - val_accuracy: 0.9132\n",
      "Epoch 30/50\n",
      "20/20 [==============================] - 3s 162ms/step - loss: 0.2821 - accuracy: 0.8779 - val_loss: 0.2152 - val_accuracy: 0.9200\n",
      "Epoch 31/50\n",
      "20/20 [==============================] - 3s 162ms/step - loss: 0.2688 - accuracy: 0.8895 - val_loss: 0.1764 - val_accuracy: 0.9440\n",
      "Epoch 32/50\n",
      "20/20 [==============================] - 3s 165ms/step - loss: 0.2467 - accuracy: 0.8986 - val_loss: 0.2328 - val_accuracy: 0.8722\n",
      "Epoch 33/50\n",
      "20/20 [==============================] - 3s 163ms/step - loss: 0.2356 - accuracy: 0.9001 - val_loss: 0.3490 - val_accuracy: 0.8508\n",
      "Epoch 34/50\n",
      "20/20 [==============================] - 3s 162ms/step - loss: 0.2595 - accuracy: 0.8853 - val_loss: 0.1841 - val_accuracy: 0.9298\n",
      "Epoch 35/50\n",
      "20/20 [==============================] - 3s 164ms/step - loss: 0.1909 - accuracy: 0.9260 - val_loss: 0.0902 - val_accuracy: 0.9708\n",
      "Epoch 36/50\n",
      "20/20 [==============================] - 3s 165ms/step - loss: 0.1846 - accuracy: 0.9228 - val_loss: 0.3269 - val_accuracy: 0.8408\n",
      "Epoch 37/50\n",
      "20/20 [==============================] - 3s 163ms/step - loss: 0.1757 - accuracy: 0.9270 - val_loss: 0.2132 - val_accuracy: 0.9058\n",
      "Epoch 38/50\n",
      "20/20 [==============================] - 3s 164ms/step - loss: 0.1494 - accuracy: 0.9437 - val_loss: 0.0822 - val_accuracy: 0.9764\n",
      "Epoch 39/50\n",
      "20/20 [==============================] - 3s 164ms/step - loss: 0.1859 - accuracy: 0.9216 - val_loss: 0.1809 - val_accuracy: 0.9068\n",
      "Epoch 40/50\n",
      "20/20 [==============================] - 3s 162ms/step - loss: 0.1585 - accuracy: 0.9359 - val_loss: 0.2817 - val_accuracy: 0.8736\n",
      "Epoch 41/50\n",
      "20/20 [==============================] - 3s 162ms/step - loss: 0.1633 - accuracy: 0.9342 - val_loss: 0.4272 - val_accuracy: 0.8476\n",
      "Epoch 42/50\n",
      "20/20 [==============================] - 3s 165ms/step - loss: 0.1227 - accuracy: 0.9507 - val_loss: 0.1549 - val_accuracy: 0.9326\n",
      "Epoch 43/50\n",
      "20/20 [==============================] - 3s 163ms/step - loss: 0.2010 - accuracy: 0.9155 - val_loss: 0.1141 - val_accuracy: 0.9554\n",
      "Epoch 44/50\n",
      "20/20 [==============================] - 3s 163ms/step - loss: 0.1878 - accuracy: 0.9201 - val_loss: 0.1636 - val_accuracy: 0.9248\n",
      "Epoch 45/50\n",
      "20/20 [==============================] - 3s 164ms/step - loss: 0.1407 - accuracy: 0.9473 - val_loss: 0.1612 - val_accuracy: 0.9220\n",
      "Epoch 46/50\n",
      "20/20 [==============================] - 3s 164ms/step - loss: 0.1283 - accuracy: 0.9495 - val_loss: 0.0594 - val_accuracy: 0.9900\n",
      "Epoch 47/50\n",
      "20/20 [==============================] - 3s 165ms/step - loss: 0.1416 - accuracy: 0.9421 - val_loss: 0.0728 - val_accuracy: 0.9678\n",
      "Epoch 48/50\n",
      "20/20 [==============================] - 3s 164ms/step - loss: 0.1078 - accuracy: 0.9595 - val_loss: 0.1605 - val_accuracy: 0.9162\n",
      "Epoch 49/50\n",
      "20/20 [==============================] - 3s 162ms/step - loss: 0.1047 - accuracy: 0.9611 - val_loss: 0.1834 - val_accuracy: 0.9066\n",
      "Epoch 50/50\n",
      "20/20 [==============================] - 3s 166ms/step - loss: 0.0878 - accuracy: 0.9690 - val_loss: 0.0802 - val_accuracy: 0.9604\n"
     ]
    },
    {
     "data": {
      "text/plain": [
       "<keras.callbacks.History at 0x7f9a149c8b10>"
      ]
     },
     "execution_count": 25,
     "metadata": {},
     "output_type": "execute_result"
    }
   ],
   "source": [
    "epochs = 50\n",
    "steps_per_epoch = 20\n",
    "\n",
    "\n",
    "model.fit_generator(\n",
    "    generator = train_generator,\n",
    "    epochs = epochs,\n",
    "    steps_per_epoch = steps_per_epoch,\n",
    "    validation_data = next(val_generator)\n",
    ")"
   ]
  },
  {
   "cell_type": "markdown",
   "metadata": {
    "id": "cD_MzA_cqnME"
   },
   "source": [
    "# Conclusion\n",
    "\n",
    "The above model takes a sequence of 1000 rows as an input and returns if the system is under attack or not with 99.8% accuracy. We can be attach it to a real server and pass the last 1000 wireshark logs of the server to it and it will automatically close down the server if needed."
   ]
  }
 ],
 "metadata": {
  "accelerator": "GPU",
  "colab": {
   "collapsed_sections": [],
   "name": "AI CyberSec Assignment 2.ipynb",
   "provenance": []
  },
  "kernelspec": {
   "display_name": "Python 3",
   "language": "python",
   "name": "python3"
  },
  "language_info": {
   "codemirror_mode": {
    "name": "ipython",
    "version": 3
   },
   "file_extension": ".py",
   "mimetype": "text/x-python",
   "name": "python",
   "nbconvert_exporter": "python",
   "pygments_lexer": "ipython3",
   "version": "3.8.5"
  }
 },
 "nbformat": 4,
 "nbformat_minor": 1
}
